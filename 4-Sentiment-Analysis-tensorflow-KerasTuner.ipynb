{
 "cells": [
  {
   "cell_type": "markdown",
   "id": "679d5ced",
   "metadata": {},
   "source": [
    "# Tuned Neural Network for Sentiment Analysis with KerasTuner\n",
    "\n",
    "This notebook presents a **deep learning pipeline** for IMDb sentiment analysis using **TensorFlow** and **KerasTuner** to optimize a compact neural network architecture.\n",
    "\n",
    "1. **Data Loading & Preparation**\n",
    "\n",
    "   * IMDb dataset (50,000 reviews) downloaded and labeled.\n",
    "   * Reviews shuffled and split into training and test sets (80/20).\n",
    "\n",
    "2. **Text Vectorization**\n",
    "\n",
    "   * Used `TextVectorization` layer to convert raw text into integer sequences (max 10,000 tokens, 500 length).\n",
    "\n",
    "3. **Model Definition & Hyperparameter Tuning**\n",
    "\n",
    "   * Built a `Sequential` model with:\n",
    "\n",
    "     * Embedding layer (tunable dimension)\n",
    "     * GlobalAveragePooling\n",
    "     * Dense + Dropout layers\n",
    "   * Tuned via **KerasTuner Hyperband**, optimizing for validation accuracy.\n",
    "\n",
    "4. **Best Hyperparameters Selected**\n",
    "\n",
    "   * Example: `Embedding Dim=64`, `Units=64`, `Dropout=0.3`, `Learning Rate=1e-3` (exact values logged dynamically).\n",
    "\n",
    "5. **Model Training & Evaluation**\n",
    "\n",
    "   * Trained best model for 5 epochs with early stopping.\n",
    "   * **Test Accuracy:** 0.8777\n",
    "   * Training curves visualized to show learning stability.\n",
    "\n",
    "6. **Model Export & Interaction**\n",
    "\n",
    "   * Best model saved to Google Drive.\n",
    "   * Command-line interface implemented for real-time review classification.\n",
    "\n",
    "---\n",
    "\n",
    "### 📊 Results Table\n",
    "\n",
    "| Model                  | Accuracy | File Name                                           | Any Brief Note                                             |\n",
    "| ---------------------- | -------- | --------------------------------------------------- | ---------------------------------------------------------- |\n",
    "| Neural Network (Tuned) | 0.8777   | `4-Sentiment-Analysis-tensorflow-KerasTuner.ipynb` | Lightweight model tuned via KerasTuner; stable performance |\n",
    "\n",
    "> 💡 *A compact neural model achieving strong generalization, balancing performance and simplicity.*\n",
    "\n",
    "---\n",
    "\n",
    "### This TensorFlow-based sentiment analysis script includes:\n",
    "\n",
    "- keras-tuner installation\n",
    "- data loading\n",
    "- text vectorization\n",
    "- model tuning with KerasTuner\n",
    "- training\n",
    "- plotting\n",
    "- model saving/loading\n",
    "- interactive prediction\n",
    "\n",
    "### Features:\n",
    "\n",
    "* Fully automated hyperparameter tuning using KerasTuner.\n",
    "* Embedding + Dense Neural Network architecture.\n",
    "* Accuracy & loss plots to track training progress.\n",
    "* Saves and reloads the final model.\n",
    "* Real-time prediction with confidence scores.\n"
   ]
  },
  {
   "cell_type": "markdown",
   "id": "2dc44c60",
   "metadata": {},
   "source": [
    "# Mount Google Drive"
   ]
  },
  {
   "cell_type": "code",
   "execution_count": 2,
   "id": "60KZijZa8tz8",
   "metadata": {
    "colab": {
     "base_uri": "https://localhost:8080/"
    },
    "executionInfo": {
     "elapsed": 887,
     "status": "ok",
     "timestamp": 1748588085571,
     "user": {
      "displayName": "Percy Landa",
      "userId": "00834250160249361181"
     },
     "user_tz": 420
    },
    "id": "60KZijZa8tz8",
    "outputId": "d3941af5-d1a0-4ec7-eb30-e34d9b1e3dcb"
   },
   "outputs": [
    {
     "name": "stdout",
     "output_type": "stream",
     "text": [
      "Drive already mounted at /content/drive; to attempt to forcibly remount, call drive.mount(\"/content/drive\", force_remount=True).\n"
     ]
    }
   ],
   "source": [
    "# Mount Google Drive\n",
    "from google.colab import drive\n",
    "drive.mount('/content/drive')"
   ]
  },
  {
   "cell_type": "code",
   "execution_count": 3,
   "id": "39cf8f5d",
   "metadata": {
    "colab": {
     "base_uri": "https://localhost:8080/"
    },
    "executionInfo": {
     "elapsed": 4718,
     "status": "ok",
     "timestamp": 1748588090284,
     "user": {
      "displayName": "Percy Landa",
      "userId": "00834250160249361181"
     },
     "user_tz": 420
    },
    "id": "39cf8f5d",
    "outputId": "97abb9fa-974f-42a5-d63e-1f59b54cb506",
    "vscode": {
     "languageId": "plaintext"
    }
   },
   "outputs": [
    {
     "name": "stdout",
     "output_type": "stream",
     "text": [
      "Collecting keras-tuner\n",
      "  Downloading keras_tuner-1.4.7-py3-none-any.whl.metadata (5.4 kB)\n",
      "Requirement already satisfied: keras in /usr/local/lib/python3.11/dist-packages (from keras-tuner) (3.8.0)\n",
      "Requirement already satisfied: packaging in /usr/local/lib/python3.11/dist-packages (from keras-tuner) (24.2)\n",
      "Requirement already satisfied: requests in /usr/local/lib/python3.11/dist-packages (from keras-tuner) (2.32.3)\n",
      "Collecting kt-legacy (from keras-tuner)\n",
      "  Downloading kt_legacy-1.0.5-py3-none-any.whl.metadata (221 bytes)\n",
      "Requirement already satisfied: absl-py in /usr/local/lib/python3.11/dist-packages (from keras->keras-tuner) (1.4.0)\n",
      "Requirement already satisfied: numpy in /usr/local/lib/python3.11/dist-packages (from keras->keras-tuner) (2.0.2)\n",
      "Requirement already satisfied: rich in /usr/local/lib/python3.11/dist-packages (from keras->keras-tuner) (13.9.4)\n",
      "Requirement already satisfied: namex in /usr/local/lib/python3.11/dist-packages (from keras->keras-tuner) (0.0.9)\n",
      "Requirement already satisfied: h5py in /usr/local/lib/python3.11/dist-packages (from keras->keras-tuner) (3.13.0)\n",
      "Requirement already satisfied: optree in /usr/local/lib/python3.11/dist-packages (from keras->keras-tuner) (0.15.0)\n",
      "Requirement already satisfied: ml-dtypes in /usr/local/lib/python3.11/dist-packages (from keras->keras-tuner) (0.4.1)\n",
      "Requirement already satisfied: charset-normalizer<4,>=2 in /usr/local/lib/python3.11/dist-packages (from requests->keras-tuner) (3.4.2)\n",
      "Requirement already satisfied: idna<4,>=2.5 in /usr/local/lib/python3.11/dist-packages (from requests->keras-tuner) (3.10)\n",
      "Requirement already satisfied: urllib3<3,>=1.21.1 in /usr/local/lib/python3.11/dist-packages (from requests->keras-tuner) (2.4.0)\n",
      "Requirement already satisfied: certifi>=2017.4.17 in /usr/local/lib/python3.11/dist-packages (from requests->keras-tuner) (2025.4.26)\n",
      "Requirement already satisfied: typing-extensions>=4.5.0 in /usr/local/lib/python3.11/dist-packages (from optree->keras->keras-tuner) (4.13.2)\n",
      "Requirement already satisfied: markdown-it-py>=2.2.0 in /usr/local/lib/python3.11/dist-packages (from rich->keras->keras-tuner) (3.0.0)\n",
      "Requirement already satisfied: pygments<3.0.0,>=2.13.0 in /usr/local/lib/python3.11/dist-packages (from rich->keras->keras-tuner) (2.19.1)\n",
      "Requirement already satisfied: mdurl~=0.1 in /usr/local/lib/python3.11/dist-packages (from markdown-it-py>=2.2.0->rich->keras->keras-tuner) (0.1.2)\n",
      "Downloading keras_tuner-1.4.7-py3-none-any.whl (129 kB)\n",
      "\u001b[2K   \u001b[90m━━━━━━━━━━━━━━━━━━━━━━━━━━━━━━━━━━━━━━━━\u001b[0m \u001b[32m129.1/129.1 kB\u001b[0m \u001b[31m3.4 MB/s\u001b[0m eta \u001b[36m0:00:00\u001b[0m\n",
      "\u001b[?25hDownloading kt_legacy-1.0.5-py3-none-any.whl (9.6 kB)\n",
      "Installing collected packages: kt-legacy, keras-tuner\n",
      "Successfully installed keras-tuner-1.4.7 kt-legacy-1.0.5\n"
     ]
    }
   ],
   "source": [
    "# If running in a notebook or Colab:\n",
    "!pip install keras-tuner"
   ]
  },
  {
   "cell_type": "markdown",
   "id": "94f62fcc",
   "metadata": {},
   "source": [
    "# Import Libraries"
   ]
  },
  {
   "cell_type": "code",
   "execution_count": 4,
   "id": "_3MwbbDH5XDm",
   "metadata": {
    "executionInfo": {
     "elapsed": 602,
     "status": "ok",
     "timestamp": 1748588090887,
     "user": {
      "displayName": "Percy Landa",
      "userId": "00834250160249361181"
     },
     "user_tz": 420
    },
    "id": "_3MwbbDH5XDm"
   },
   "outputs": [],
   "source": [
    "# Standard libraries\n",
    "import os\n",
    "import tarfile\n",
    "import urllib.request\n",
    "import pandas as pd\n",
    "import numpy as np\n",
    "import textwrap\n",
    "import matplotlib.pyplot as plt"
   ]
  },
  {
   "cell_type": "code",
   "execution_count": 5,
   "id": "DmnbJzKH5W3d",
   "metadata": {
    "executionInfo": {
     "elapsed": 9909,
     "status": "ok",
     "timestamp": 1748588100801,
     "user": {
      "displayName": "Percy Landa",
      "userId": "00834250160249361181"
     },
     "user_tz": 420
    },
    "id": "DmnbJzKH5W3d"
   },
   "outputs": [],
   "source": [
    "# TensorFlow & Keras\n",
    "import tensorflow as tf\n",
    "from tensorflow.keras import layers, models\n",
    "from tensorflow.keras.layers import TextVectorization\n",
    "from sklearn.model_selection import train_test_split"
   ]
  },
  {
   "cell_type": "code",
   "execution_count": 6,
   "id": "SG3VafzI5WkX",
   "metadata": {
    "executionInfo": {
     "elapsed": 406,
     "status": "ok",
     "timestamp": 1748588101206,
     "user": {
      "displayName": "Percy Landa",
      "userId": "00834250160249361181"
     },
     "user_tz": 420
    },
    "id": "SG3VafzI5WkX"
   },
   "outputs": [],
   "source": [
    "# KerasTuner\n",
    "import keras_tuner as kt"
   ]
  },
  {
   "cell_type": "markdown",
   "id": "b18621f5",
   "metadata": {},
   "source": [
    "# 1. Load Data"
   ]
  },
  {
   "cell_type": "code",
   "execution_count": null,
   "id": "NCMgBMWl5e10",
   "metadata": {
    "executionInfo": {
     "elapsed": 28417,
     "status": "ok",
     "timestamp": 1748588129635,
     "user": {
      "displayName": "Percy Landa",
      "userId": "00834250160249361181"
     },
     "user_tz": 420
    },
    "id": "NCMgBMWl5e10"
   },
   "outputs": [],
   "source": [
    "# 1. Load IMDB Dataset\n",
    "def load_imdb_data(data_dir):\n",
    "    data = {\"review\": [], \"sentiment\": []}\n",
    "    for label in [\"pos\", \"neg\"]:\n",
    "        sentiment = 1 if label == \"pos\" else 0\n",
    "        path = os.path.join(data_dir, label)\n",
    "        for file in os.listdir(path):\n",
    "            with open(os.path.join(path, file), encoding=\"utf-8\") as f:\n",
    "                data[\"review\"].append(f.read())\n",
    "                data[\"sentiment\"].append(sentiment)\n",
    "    return pd.DataFrame(data)\n",
    "\n",
    "url = \"https://ai.stanford.edu/~amaas/data/sentiment/aclImdb_v1.tar.gz\"\n",
    "if not os.path.exists(\"aclImdb\"):\n",
    "    urllib.request.urlretrieve(url, \"aclImdb_v1.tar.gz\")\n",
    "    with tarfile.open(\"aclImdb_v1.tar.gz\", \"r:gz\") as tar:\n",
    "        tar.extractall()\n",
    "\n",
    "train_df = load_imdb_data(\"aclImdb/train\")\n",
    "test_df = load_imdb_data(\"aclImdb/test\")\n",
    "df = pd.concat([train_df, test_df]).sample(frac=1).reset_index(drop=True)"
   ]
  },
  {
   "cell_type": "markdown",
   "id": "870b333f",
   "metadata": {},
   "source": [
    "# 2. Train-Test Split"
   ]
  },
  {
   "cell_type": "code",
   "execution_count": null,
   "id": "4f0b2ba0",
   "metadata": {},
   "outputs": [],
   "source": [
    "# 2. Train-Test Split\n",
    "X = df[\"review\"].values\n",
    "y = df[\"sentiment\"].values\n",
    "X_train, X_test, y_train, y_test = train_test_split(X, y, test_size=0.2, random_state=42)"
   ]
  },
  {
   "cell_type": "markdown",
   "id": "ca5ebcdc",
   "metadata": {},
   "source": [
    "# 3. Text Vectorization"
   ]
  },
  {
   "cell_type": "code",
   "execution_count": null,
   "id": "SAg93Tti5erw",
   "metadata": {
    "executionInfo": {
     "elapsed": 3411,
     "status": "ok",
     "timestamp": 1748588133037,
     "user": {
      "displayName": "Percy Landa",
      "userId": "00834250160249361181"
     },
     "user_tz": 420
    },
    "id": "SAg93Tti5erw"
   },
   "outputs": [],
   "source": [
    "# 3. Text Vectorization\n",
    "max_features = 10000\n",
    "sequence_length = 500\n",
    "\n",
    "vectorizer = TextVectorization(max_tokens=max_features, output_sequence_length=sequence_length, output_mode='int')\n",
    "vectorizer.adapt(X_train)"
   ]
  },
  {
   "cell_type": "markdown",
   "id": "5453e556",
   "metadata": {},
   "source": [
    "# 4. Define Model Builder for KerasTuner"
   ]
  },
  {
   "cell_type": "code",
   "execution_count": null,
   "id": "1IMBnMu05izZ",
   "metadata": {
    "executionInfo": {
     "elapsed": 2,
     "status": "ok",
     "timestamp": 1748588133045,
     "user": {
      "displayName": "Percy Landa",
      "userId": "00834250160249361181"
     },
     "user_tz": 420
    },
    "id": "1IMBnMu05izZ"
   },
   "outputs": [],
   "source": [
    "# 4. Define Model Builder for KerasTuner\n",
    "def model_builder(hp):\n",
    "    model = models.Sequential()\n",
    "    model.add(vectorizer)\n",
    "    model.add(layers.Embedding(input_dim=max_features,\n",
    "                               output_dim=hp.Int(\"embedding_dim\", 32, 128, step=32)))\n",
    "    model.add(layers.GlobalAveragePooling1D())\n",
    "    model.add(layers.Dense(units=hp.Int(\"units\", 32, 128, step=32), activation=\"relu\"))\n",
    "    model.add(layers.Dropout(rate=hp.Float(\"dropout\", 0.2, 0.5, step=0.1)))\n",
    "    model.add(layers.Dense(1, activation=\"sigmoid\"))\n",
    "\n",
    "    hp_learning_rate = hp.Choice(\"learning_rate\", values=[1e-4, 1e-3, 1e-2])\n",
    "    model.compile(optimizer=tf.keras.optimizers.Adam(learning_rate=hp_learning_rate),\n",
    "                  loss=\"binary_crossentropy\",\n",
    "                  metrics=[\"accuracy\"])\n",
    "    return model"
   ]
  },
  {
   "cell_type": "markdown",
   "id": "d62dd86f",
   "metadata": {},
   "source": [
    "# 5. Hyperparameter Search with KerasTuner"
   ]
  },
  {
   "cell_type": "code",
   "execution_count": null,
   "id": "D2W4F6vQ5isn",
   "metadata": {
    "colab": {
     "base_uri": "https://localhost:8080/"
    },
    "executionInfo": {
     "elapsed": 2208811,
     "status": "ok",
     "timestamp": 1748590341868,
     "user": {
      "displayName": "Percy Landa",
      "userId": "00834250160249361181"
     },
     "user_tz": 420
    },
    "id": "D2W4F6vQ5isn",
    "outputId": "dd8a1410-85f4-4a87-eb96-2d9ea4211796"
   },
   "outputs": [
    {
     "name": "stdout",
     "output_type": "stream",
     "text": [
      "Trial 30 Complete [00h 00m 54s]\n",
      "val_accuracy: 0.8834999799728394\n",
      "\n",
      "Best val_accuracy So Far: 0.8949999809265137\n",
      "Total elapsed time: 00h 36m 49s\n"
     ]
    }
   ],
   "source": [
    "# 5. Hyperparameter Search with KerasTuner\n",
    "tuner = kt.Hyperband(model_builder,\n",
    "                     objective=\"val_accuracy\",\n",
    "                     max_epochs=10,\n",
    "                     factor=3,\n",
    "                     directory=\"keras_tuner\",\n",
    "                     project_name=\"sentiment_analysis\")\n",
    "\n",
    "stop_early = tf.keras.callbacks.EarlyStopping(monitor=\"val_loss\", patience=2)\n",
    "\n",
    "print(\"🔍 Starting hyperparameter search...\")\n",
    "tuner.search(X_train, y_train, epochs=10, validation_split=0.2, callbacks=[stop_early], verbose=2)"
   ]
  },
  {
   "cell_type": "markdown",
   "id": "QoqRRvjOONsB",
   "metadata": {
    "id": "QoqRRvjOONsB"
   },
   "source": [
    "# 6. Let's break down the results above line by line:\n",
    "### This result is from **KerasTuner** during a hyperparameter search\n",
    "\n",
    "### 📊 Trial 30 Complete \\[00h 00m 54s]\n",
    "\n",
    "* **Trial 30**: This was the **30th trial** (i.e., the 30th different combination of hyperparameters being tested).\n",
    "* **00h 00m 54s**: It took **54 seconds** to train and validate this trial.\n",
    "\n",
    "### ✅ val\\_accuracy: 0.8835\n",
    "\n",
    "* This trial’s **best validation accuracy** was **88.35%**, which is the model's accuracy on the **validation set**, not the training set.\n",
    "* It’s the main metric KerasTuner is trying to **maximize** (as defined in `objective=\"val_accuracy\"`).\n",
    "\n",
    "### 🏆 Best val\\_accuracy So Far: 0.8950\n",
    "\n",
    "* This is the **highest validation accuracy** achieved **across all trials so far**.\n",
    "* In this case, one of the previous trials achieved **89.50%**, which is better than the current one (88.35%).\n",
    "\n",
    "### ⏱ Total elapsed time: 00h 36m 49s\n",
    "\n",
    "* This is the **cumulative time** it has taken to run **all 30 trials** up to this point: **36 minutes, 49 seconds**.\n",
    "\n",
    "### 🧠 Summary: What This Means\n",
    "\n",
    "* KerasTuner has tested **30 sets of hyperparameters** so far.\n",
    "* The best model it has found reached **89.50% validation accuracy**.\n",
    "* The current trial (trial 30) was **not better** than the best, but still decent at **88.35%**."
   ]
  },
  {
   "cell_type": "markdown",
   "id": "03e7a291",
   "metadata": {},
   "source": [
    "# 7. Train Best Model"
   ]
  },
  {
   "cell_type": "code",
   "execution_count": null,
   "id": "4Pya7oSq5obU",
   "metadata": {
    "colab": {
     "base_uri": "https://localhost:8080/"
    },
    "executionInfo": {
     "elapsed": 101807,
     "status": "ok",
     "timestamp": 1748590443722,
     "user": {
      "displayName": "Percy Landa",
      "userId": "00834250160249361181"
     },
     "user_tz": 420
    },
    "id": "4Pya7oSq5obU",
    "outputId": "0acfbab9-38a7-44b5-d718-154592c32ba6"
   },
   "outputs": [
    {
     "name": "stdout",
     "output_type": "stream",
     "text": [
      "\n",
      "✅ Best Hyperparameters:\n",
      "Embedding Dim: 96\n",
      "Units: 96\n",
      "Dropout: 0.4\n",
      "Learning Rate: 0.001\n",
      "Epoch 1/5\n",
      "1000/1000 - 19s - 19ms/step - accuracy: 0.6758 - loss: 0.5776 - val_accuracy: 0.8207 - val_loss: 0.3852\n",
      "Epoch 2/5\n",
      "1000/1000 - 22s - 22ms/step - accuracy: 0.8411 - loss: 0.3659 - val_accuracy: 0.8211 - val_loss: 0.3778\n",
      "Epoch 3/5\n",
      "1000/1000 - 17s - 17ms/step - accuracy: 0.8695 - loss: 0.3121 - val_accuracy: 0.8254 - val_loss: 0.3850\n",
      "Epoch 4/5\n",
      "1000/1000 - 22s - 22ms/step - accuracy: 0.8844 - loss: 0.2795 - val_accuracy: 0.7965 - val_loss: 0.4572\n",
      "Epoch 5/5\n",
      "1000/1000 - 19s - 19ms/step - accuracy: 0.8970 - loss: 0.2555 - val_accuracy: 0.8415 - val_loss: 0.3690\n"
     ]
    }
   ],
   "source": [
    "# 7. Train Best Model\n",
    "best_hps = tuner.get_best_hyperparameters(1)[0]\n",
    "print(f\"\\n✅ Best Hyperparameters:\")\n",
    "print(f\"Embedding Dim: {best_hps.get('embedding_dim')}\")\n",
    "print(f\"Units: {best_hps.get('units')}\")\n",
    "print(f\"Dropout: {best_hps.get('dropout')}\")\n",
    "print(f\"Learning Rate: {best_hps.get('learning_rate')}\")\n",
    "\n",
    "best_model = tuner.hypermodel.build(best_hps)\n",
    "history = best_model.fit(X_train, y_train, epochs=5, validation_split=0.2, verbose=2)"
   ]
  },
  {
   "cell_type": "markdown",
   "id": "jRqzh7QuOvb3",
   "metadata": {
    "id": "jRqzh7QuOvb3"
   },
   "source": [
    "# 8. Let's break down the results above:\n",
    "\n",
    "\n",
    "### Best Hyperparameters Review:\n",
    "\n",
    "These are the hyperparameter values that **KerasTuner determined as optimal** after testing many combinations:\n",
    "\n",
    "* **Embedding Dim: 96**\n",
    "  → Each word/token is represented as a 96-dimensional vector in the embedding layer.\n",
    "\n",
    "* **Units: 96**\n",
    "  → The number of neurons in the Dense hidden layer (after pooling). More units = more model capacity.\n",
    "\n",
    "* **Dropout: 0.4**\n",
    "  → 40% of the neurons in the dense layer are randomly dropped during training to prevent overfitting.\n",
    "\n",
    "* **Learning Rate: 0.001**\n",
    "  → The step size used by the optimizer (Adam). Lower values = slower, more precise updates.\n",
    "\n",
    "### 📈 Epoch Results (Epoch 1 to 5):\n",
    "\n",
    "* Each epoch is one full pass over the training data. Let’s go epoch by epoch:\n",
    "\n",
    "#### **Epoch 1/5**\n",
    "\n",
    "* `accuracy: 0.6758` → 67.58% on training data\n",
    "* `loss: 0.5776` → Binary cross-entropy loss on training data\n",
    "* `val_accuracy: 0.8207` → 82.07% on validation data\n",
    "* `val_loss: 0.3852` → Loss on validation set\n",
    "\n",
    "✅ **Strong improvement from training to validation accuracy** — the model generalizes pretty well after just one epoch.\n",
    "\n",
    "#### **Epoch 2/5**\n",
    "\n",
    "* Accuracy improves: `0.8411` (train), `0.8211` (val)\n",
    "* Validation accuracy **plateaus** slightly, but **training improves a lot**\n",
    "\n",
    "#### **Epoch 3/5**\n",
    "\n",
    "* `train acc: 0.8695`, `val acc: 0.8254`\n",
    "* Val accuracy nudges up, but **val loss** increases a bit → slight sign of overfitting starting.\n",
    "\n",
    "#### **Epoch 4/5**\n",
    "\n",
    "* Train accuracy: `0.8844` is better\n",
    "* But **val accuracy drops to 0.7965** → more overfitting\n",
    "* `val_loss: 0.4572` confirms it\n",
    "\n",
    "#### **Epoch 5/5**\n",
    "\n",
    "* Final training accuracy: `0.8970`\n",
    "* Final validation accuracy: **0.8415** ✅\n",
    "* Validation loss improves again: `0.3690` (lowest yet)\n",
    "\n",
    "✅ **Conclusion**: Though overfitting started around epoch 4, the model **recovered well in epoch 5**, ending with the **best validation accuracy of 84.15%**.\n",
    "\n",
    "### 🧠 Summary\n",
    "\n",
    "| Metric               | Value                                         |\n",
    "| -------------------- | --------------------------------------------- |\n",
    "| Best Validation Acc  | **84.15%**                                    |\n",
    "| Final Train Acc      | 89.70%                                        |\n",
    "| Epochs               | 5                                             |\n",
    "| Signs of Overfitting | Mild (fixed in epoch 5)                       |\n",
    "| Best HPs             | Embedding=96, Units=96, Dropout=0.4, LR=0.001 |"
   ]
  },
  {
   "cell_type": "markdown",
   "id": "28a36751",
   "metadata": {},
   "source": [
    "# 9. Evaluate on Test Set"
   ]
  },
  {
   "cell_type": "code",
   "execution_count": null,
   "id": "Vf70r75U5oWo",
   "metadata": {
    "colab": {
     "base_uri": "https://localhost:8080/"
    },
    "executionInfo": {
     "elapsed": 2993,
     "status": "ok",
     "timestamp": 1748590446721,
     "user": {
      "displayName": "Percy Landa",
      "userId": "00834250160249361181"
     },
     "user_tz": 420
    },
    "id": "Vf70r75U5oWo",
    "outputId": "c29a52d6-aee7-4615-b320-f43f627dbb2a"
   },
   "outputs": [
    {
     "name": "stdout",
     "output_type": "stream",
     "text": [
      "313/313 - 2s - 7ms/step - accuracy: 0.8423 - loss: 0.3639\n",
      "\n",
      "🎯 Test Accuracy: 0.8423\n"
     ]
    }
   ],
   "source": [
    "# 9. Evaluate on Test Set\n",
    "loss, accuracy = best_model.evaluate(X_test, y_test, verbose=2)\n",
    "print(f\"\\n🎯 Test Accuracy: {accuracy:.4f}\")"
   ]
  },
  {
   "cell_type": "markdown",
   "id": "Lkh9knvmOz9s",
   "metadata": {
    "id": "Lkh9knvmOz9s"
   },
   "source": [
    "# 10. Let's break down the results above:\n",
    "\n",
    "### This output shows the **final evaluation of the trained model on the test dataset**, which is the data the model has never seen during training or validation.\n",
    "\n",
    "\n",
    "### 🔍 Breakdown of Each Part:\n",
    "\n",
    "```\n",
    "313/313 - 2s - 7ms/step - accuracy: 0.8423 - loss: 0.3639\n",
    "```\n",
    "\n",
    "* **313/313** → The test set was divided into 313 batches (because your batch size was likely 32, and there are \\~10,000 test samples).\n",
    "* **2s** → Total time to evaluate the test set.\n",
    "* **7ms/step** → Average time taken per batch (step).\n",
    "* **accuracy: 0.8423** → 📊 The model correctly predicted the sentiment of 84.23% of the test reviews.\n",
    "* **loss: 0.3639** → 🧮 Binary cross-entropy loss on the test set (lower is better).\n",
    "\n",
    "### 🎯 Test Accuracy: 0.8423\n",
    "\n",
    "This summary line simply reiterates that the model achieved **84.23% accuracy** on unseen data.\n",
    "\n",
    "### 🧠 What This Means:\n",
    "\n",
    "* The model **generalizes well** — its test accuracy (84.23%) is very close to its **validation accuracy (84.15%)**, which is a **great sign**.\n",
    "* It **avoided overfitting**, at least to a reasonable degree.\n",
    "* This is a **strong result** for a text sentiment model trained on IMDB using a fairly lightweight architecture."
   ]
  },
  {
   "cell_type": "markdown",
   "id": "bcaad0de",
   "metadata": {},
   "source": [
    "# 11. Plot Training Curves"
   ]
  },
  {
   "cell_type": "code",
   "execution_count": null,
   "id": "qKkcnuM85whP",
   "metadata": {
    "colab": {
     "base_uri": "https://localhost:8080/",
     "height": 507
    },
    "executionInfo": {
     "elapsed": 874,
     "status": "ok",
     "timestamp": 1748590447601,
     "user": {
      "displayName": "Percy Landa",
      "userId": "00834250160249361181"
     },
     "user_tz": 420
    },
    "id": "qKkcnuM85whP",
    "outputId": "74766a2b-69a2-47ca-e1e4-19243e528139"
   },
   "outputs": [
    {
     "data": {
      "image/png": "[encoded data removed]",
      "text/plain": [
       "<Figure size 1000x500 with 2 Axes>"
      ]
     },
     "metadata": {},
     "output_type": "display_data"
    }
   ],
   "source": [
    "# 11. Plot Training Curves\n",
    "def plot_training_curves(history):\n",
    "    plt.figure(figsize=(10, 5))\n",
    "\n",
    "    # Accuracy\n",
    "    plt.subplot(1, 2, 1)\n",
    "    plt.plot(history.history['accuracy'], label='Train Acc')\n",
    "    plt.plot(history.history['val_accuracy'], label='Val Acc')\n",
    "    plt.title('Accuracy over Epochs')\n",
    "    plt.xlabel('Epoch')\n",
    "    plt.ylabel('Accuracy')\n",
    "    plt.legend()\n",
    "\n",
    "    # Loss\n",
    "    plt.subplot(1, 2, 2)\n",
    "    plt.plot(history.history['loss'], label='Train Loss')\n",
    "    plt.plot(history.history['val_loss'], label='Val Loss')\n",
    "    plt.title('Loss over Epochs')\n",
    "    plt.xlabel('Epoch')\n",
    "    plt.ylabel('Loss')\n",
    "    plt.legend()\n",
    "\n",
    "    plt.tight_layout()\n",
    "    plt.show()\n",
    "\n",
    "plot_training_curves(history)"
   ]
  },
  {
   "cell_type": "markdown",
   "id": "34e41df4",
   "metadata": {},
   "source": [
    "# 12. Save The Best Model"
   ]
  },
  {
   "cell_type": "code",
   "execution_count": 21,
   "id": "ffOBx6tELk-A",
   "metadata": {
    "executionInfo": {
     "elapsed": 12,
     "status": "ok",
     "timestamp": 1748591619610,
     "user": {
      "displayName": "Percy Landa",
      "userId": "00834250160249361181"
     },
     "user_tz": 420
    },
    "id": "ffOBx6tELk-A"
   },
   "outputs": [],
   "source": [
    "# ✅ Tip: Ensure the folder 3-tensorflow-models already exists in your Drive, or create it manually in Google Drive before running the script. Otherwise, you can create it programmatically with:\n",
    "os.makedirs(\"/content/drive/MyDrive/Colab Notebooks/3-tensorflow-models\", exist_ok=True)"
   ]
  },
  {
   "cell_type": "code",
   "execution_count": null,
   "id": "aVSwegVXMLpl",
   "metadata": {
    "colab": {
     "base_uri": "https://localhost:8080/"
    },
    "executionInfo": {
     "elapsed": 283,
     "status": "ok",
     "timestamp": 1748591757891,
     "user": {
      "displayName": "Percy Landa",
      "userId": "00834250160249361181"
     },
     "user_tz": 420
    },
    "id": "aVSwegVXMLpl",
    "outputId": "6f6eb2a8-d415-4eea-8436-04569a6b65de"
   },
   "outputs": [
    {
     "name": "stdout",
     "output_type": "stream",
     "text": [
      "\n",
      "💾 Model saved to '/content/drive/MyDrive/Colab Notebooks/3-tensorflow-models/best_sentiment_model.keras'\n"
     ]
    }
   ],
   "source": [
    "# 12. Save Model\n",
    "model_path = \"/content/drive/MyDrive/Colab Notebooks/3-tensorflow-models/best_sentiment_model.keras\"\n",
    "best_model.save(model_path)\n",
    "print(f\"\\n💾 Model saved to '{model_path}'\")"
   ]
  },
  {
   "cell_type": "markdown",
   "id": "cc03f7be",
   "metadata": {},
   "source": [
    "# 13. Load The Model"
   ]
  },
  {
   "cell_type": "code",
   "execution_count": null,
   "id": "R5uZAhkb50hQ",
   "metadata": {
    "executionInfo": {
     "elapsed": 619,
     "status": "ok",
     "timestamp": 1748591873947,
     "user": {
      "displayName": "Percy Landa",
      "userId": "00834250160249361181"
     },
     "user_tz": 420
    },
    "id": "R5uZAhkb50hQ"
   },
   "outputs": [],
   "source": [
    "# 13. Load Model\n",
    "from tensorflow.keras.models import load_model\n",
    "\n",
    "model_path = \"/content/drive/MyDrive/Colab Notebooks/3-tensorflow-models/best_sentiment_model.keras\"\n",
    "model = load_model(model_path)"
   ]
  },
  {
   "cell_type": "markdown",
   "id": "0214d4b3",
   "metadata": {},
   "source": [
    "# 14. Interactive tool"
   ]
  },
  {
   "cell_type": "code",
   "execution_count": null,
   "id": "61a7e7dd",
   "metadata": {
    "executionInfo": {
     "elapsed": 7,
     "status": "ok",
     "timestamp": 1748591880615,
     "user": {
      "displayName": "Percy Landa",
      "userId": "00834250160249361181"
     },
     "user_tz": 420
    },
    "id": "61a7e7dd"
   },
   "outputs": [],
   "source": [
    "# 14. Interactive Prediction\n",
    "def predict_sentiment_interactive(model, vectorizer, width=100):\n",
    "    while True:\n",
    "        review_text = input(\"\\nEnter a movie review (or type 'exit' to quit): \")\n",
    "        if review_text.lower() == 'exit':\n",
    "            print(\"Exiting sentiment analysis. Goodbye!\")\n",
    "            break\n",
    "\n",
    "        vectorized_text = tf.convert_to_tensor([review_text])\n",
    "        prediction = model.predict(vectorized_text)[0][0]\n",
    "\n",
    "        sentiment = \"Positive 😊\" if prediction > 0.5 else \"Negative 😞\"\n",
    "        confidence = round(max(prediction, 1 - prediction) * 100, 2)\n",
    "\n",
    "        wrapped_review = textwrap.fill(review_text, width=width)\n",
    "        print(\"\\n📝 Review:\")\n",
    "        print(wrapped_review)\n",
    "        print(f\"\\n✅ Sentiment: {sentiment}\")\n",
    "        print(f\"📊 Confidence: {confidence}%\")"
   ]
  },
  {
   "cell_type": "code",
   "execution_count": null,
   "id": "a87c7453",
   "metadata": {
    "colab": {
     "base_uri": "https://localhost:8080/"
    },
    "id": "a87c7453",
    "outputId": "3f5e04d8-87fd-4c13-bd61-22d42bbe07a2"
   },
   "outputs": [
    {
     "name": "stdout",
     "output_type": "stream",
     "text": [
      "\n",
      "Enter a movie review (or type 'exit' to quit): \"El Chavo del 8\" is a beloved and iconic Mexican sitcom that has charmed audiences across Latin America and beyond for decades. The show revolves around an orphaned boy, Chavo, who lives in a barrel in a working-class \"vecindad\" (neighborhood). Despite the underlying sadness of his circumstances, the series is a comedic gem, filled with slapstick humor, witty dialogue, and relatable characters.  The brilliance of \"El Chavo del 8\" lies in its simple yet effective storytelling, which appeals to all ages. The colorful cast of characters, including the grumpy but lovable Don Ramón, the spoiled Quico, the mischievous Chilindrina, and the ever-patient Professor Jirafales, each contribute unique personalities and catchphrases that have become ingrained in popular culture.  While the humor often involves physical comedy and misunderstandings, it remains largely \"white humor\" – clean, innocent, and devoid of vulgarity, making it suitable for families. The show subtly explores themes of poverty, community, and human connection, often eliciting both laughter and heartfelt moments. Its enduring popularity is a testament to its timeless appeal and the brilliant performances of its cast, particularly Ramón Valdés as Don Ramón. \"El Chavo del 8\" is more than just a comedy; it's a cultural phenomenon that continues to bring joy and nostalgia to generations.\n",
      "\u001b[1m1/1\u001b[0m \u001b[32m━━━━━━━━━━━━━━━━━━━━\u001b[0m\u001b[37m\u001b[0m \u001b[1m0s\u001b[0m 53ms/step\n",
      "\n",
      "📝 Review:\n",
      "\"El Chavo del 8\" is a beloved and iconic Mexican sitcom that has charmed audiences across Latin\n",
      "America and beyond for decades. The show revolves around an orphaned boy, Chavo, who lives in a\n",
      "barrel in a working-class \"vecindad\" (neighborhood). Despite the underlying sadness of his\n",
      "circumstances, the series is a comedic gem, filled with slapstick humor, witty dialogue, and\n",
      "relatable characters.  The brilliance of \"El Chavo del 8\" lies in its simple yet effective\n",
      "storytelling, which appeals to all ages. The colorful cast of characters, including the grumpy but\n",
      "lovable Don Ramón, the spoiled Quico, the mischievous Chilindrina, and the ever-patient Professor\n",
      "Jirafales, each contribute unique personalities and catchphrases that have become ingrained in\n",
      "popular culture.  While the humor often involves physical comedy and misunderstandings, it remains\n",
      "largely \"white humor\" – clean, innocent, and devoid of vulgarity, making it suitable for families.\n",
      "The show subtly explores themes of poverty, community, and human connection, often eliciting both\n",
      "laughter and heartfelt moments. Its enduring popularity is a testament to its timeless appeal and\n",
      "the brilliant performances of its cast, particularly Ramón Valdés as Don Ramón. \"El Chavo del 8\" is\n",
      "more than just a comedy; it's a cultural phenomenon that continues to bring joy and nostalgia to\n",
      "generations.\n",
      "\n",
      "✅ Sentiment: Positive 😊\n",
      "📊 Confidence: 99.86000061035156%\n"
     ]
    }
   ],
   "source": [
    "# 🔍 Run it\n",
    "predict_sentiment_interactive(best_model, vectorizer)"
   ]
  }
 ],
 "metadata": {
  "colab": {
   "provenance": []
  },
  "kernelspec": {
   "display_name": "Python 3",
   "name": "python3"
  },
  "language_info": {
   "name": "python"
  }
 },
 "nbformat": 4,
 "nbformat_minor": 5
}
