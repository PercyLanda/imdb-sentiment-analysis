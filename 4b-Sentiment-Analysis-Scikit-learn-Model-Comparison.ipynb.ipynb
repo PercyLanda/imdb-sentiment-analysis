{
 "cells": [
  {
   "cell_type": "markdown",
   "id": "sa_ACi6MALr6",
   "metadata": {
    "id": "sa_ACi6MALr6"
   },
   "source": [
    "# 📚 IMDB Sentiment Classification: Model Comparison in Scikit-learn"
   ]
  },
  {
   "cell_type": "markdown",
   "id": "ef10b41c",
   "metadata": {},
   "source": [
    "Summary of the notebook **`4b-Sentiment-Analysis-Scikit-learn-Model-Comparison.ipynb`**\n",
    "\n",
    "---\n",
    "\n",
    "### 🎯 **Summary: Scikit-learn Model Comparison on IMDb Sentiment Analysis**\n",
    "\n",
    "This notebook presents a comparative analysis of four machine learning models applied to binary sentiment classification using the IMDb movie reviews dataset. The process and findings are summarized below:\n",
    "\n",
    "1. **Data Preparation**\n",
    "\n",
    "   * IMDb dataset loaded and labels converted to binary (1 = positive, 0 = negative).\n",
    "   * The dataset was split into training (80%) and testing (20%) sets.\n",
    "\n",
    "2. **Text Vectorization**\n",
    "\n",
    "   * All models used a consistent preprocessing pipeline with **TF-IDF vectorization** (max 10,000 features, n-grams up to bigrams).\n",
    "\n",
    "3. **Model Training & Evaluation**\n",
    "\n",
    "   * Four classifiers were trained: Logistic Regression, Linear SVM, Multinomial Naive Bayes, and Random Forest.\n",
    "   * Performance was assessed on the test set using **accuracy** and a full classification report (precision, recall, F1-score).\n",
    "\n",
    "4. **Key Results**\n",
    "\n",
    "   * **Linear SVM** achieved the **highest accuracy**, followed closely by Logistic Regression.\n",
    "   * Naive Bayes performed moderately well, while Random Forest underperformed relative to the others.\n",
    "\n",
    "5. **Visualization**\n",
    "\n",
    "   * A bar chart was used to compare model accuracies, highlighting the top-performing algorithms.\n",
    "\n",
    "---\n",
    "\n",
    "### 📊 Results Table\n",
    "\n",
    "| Model               | Accuracy | File Name                                                   | Any Brief Note                                 |\n",
    "| ------------------- | -------- | ----------------------------------------------------------- | ---------------------------------------------- |\n",
    "| Linear SVM          | 0.8938   | `4b-Sentiment-Analysis-Scikit-learn-Model-Comparison.ipynb` | Top performer; fast and effective for text     |\n",
    "| Logistic Regression | 0.8898   | `4b-Sentiment-Analysis-Scikit-learn-Model-Comparison.ipynb` | Nearly matched SVM; strong baseline            |\n",
    "| Naive Bayes         | 0.8447   | `4b-Sentiment-Analysis-Scikit-learn-Model-Comparison.ipynb` | Lightweight; decent performance                |\n",
    "| Random Forest       | 0.8264   | `4b-Sentiment-Analysis-Scikit-learn-Model-Comparison.ipynb` | Underperformed; not ideal for sparse text data |\n",
    "\n",
    "> 💡 *Accuracies are rounded to 4 decimal places, based on printed output in the notebook.*\n",
    "\n",
    "---\n"
   ]
  },
  {
   "cell_type": "code",
   "execution_count": 1,
   "id": "gP4ETbieAJCG",
   "metadata": {
    "colab": {
     "base_uri": "https://localhost:8080/"
    },
    "executionInfo": {
     "elapsed": 597,
     "status": "ok",
     "timestamp": 1748538510782,
     "user": {
      "displayName": "Percy Landa",
      "userId": "00834250160249361181"
     },
     "user_tz": 420
    },
    "id": "gP4ETbieAJCG",
    "outputId": "63db6c21-a732-4f1d-f970-458c8a15bcf4"
   },
   "outputs": [
    {
     "name": "stdout",
     "output_type": "stream",
     "text": [
      "Drive already mounted at /content/drive; to attempt to forcibly remount, call drive.mount(\"/content/drive\", force_remount=True).\n"
     ]
    }
   ],
   "source": [
    "# Mount Google Drive\n",
    "from google.colab import drive\n",
    "drive.mount('/content/drive')"
   ]
  },
  {
   "cell_type": "code",
   "execution_count": 2,
   "id": "EJz9syx-AI9T",
   "metadata": {
    "executionInfo": {
     "elapsed": 4422,
     "status": "ok",
     "timestamp": 1748538515209,
     "user": {
      "displayName": "Percy Landa",
      "userId": "00834250160249361181"
     },
     "user_tz": 420
    },
    "id": "EJz9syx-AI9T"
   },
   "outputs": [],
   "source": [
    "import pandas as pd\n",
    "import matplotlib.pyplot as plt\n",
    "from sklearn.model_selection import train_test_split\n",
    "from sklearn.feature_extraction.text import TfidfVectorizer\n",
    "from sklearn.pipeline import Pipeline\n",
    "from sklearn.linear_model import LogisticRegression\n",
    "from sklearn.svm import LinearSVC\n",
    "from sklearn.naive_bayes import MultinomialNB\n",
    "from sklearn.ensemble import RandomForestClassifier\n",
    "from sklearn.metrics import accuracy_score, classification_report"
   ]
  },
  {
   "cell_type": "code",
   "execution_count": 3,
   "id": "JCD7A-prAI0U",
   "metadata": {
    "executionInfo": {
     "elapsed": 4190,
     "status": "ok",
     "timestamp": 1748538519396,
     "user": {
      "displayName": "Percy Landa",
      "userId": "00834250160249361181"
     },
     "user_tz": 420
    },
    "id": "JCD7A-prAI0U"
   },
   "outputs": [],
   "source": [
    "# 1. Load the IMDB Dataset\n",
    "# Make sure the CSV file is in the same directory or update the path below\n",
    "df = pd.read_csv('/content/drive/MyDrive/Colab Notebooks/0-both-batasets/IMDB Dataset.csv')\n",
    "X, y = df['review'], df['sentiment'].map({'positive': 1, 'negative': 0})"
   ]
  },
  {
   "cell_type": "code",
   "execution_count": 4,
   "id": "DWypZF9tA4J8",
   "metadata": {
    "executionInfo": {
     "elapsed": 29,
     "status": "ok",
     "timestamp": 1748538519435,
     "user": {
      "displayName": "Percy Landa",
      "userId": "00834250160249361181"
     },
     "user_tz": 420
    },
    "id": "DWypZF9tA4J8"
   },
   "outputs": [],
   "source": [
    "# 2. Train-test Split\n",
    "X_train, X_test, y_train, y_test = train_test_split(X, y, test_size=0.2, random_state=42)"
   ]
  },
  {
   "cell_type": "code",
   "execution_count": 5,
   "id": "mBF8PhA9A4Gw",
   "metadata": {
    "executionInfo": {
     "elapsed": 11,
     "status": "ok",
     "timestamp": 1748538519456,
     "user": {
      "displayName": "Percy Landa",
      "userId": "00834250160249361181"
     },
     "user_tz": 420
    },
    "id": "mBF8PhA9A4Gw"
   },
   "outputs": [],
   "source": [
    "# 3. Define Models\n",
    "models = {\n",
    "    'Logistic Regression': LogisticRegression(max_iter=1000),\n",
    "    'Linear SVM': LinearSVC(),\n",
    "    'Naive Bayes': MultinomialNB(),\n",
    "    'Random Forest': RandomForestClassifier(n_estimators=100, random_state=42)\n",
    "}"
   ]
  },
  {
   "cell_type": "code",
   "execution_count": 6,
   "id": "CriM6zPqA39M",
   "metadata": {
    "colab": {
     "base_uri": "https://localhost:8080/"
    },
    "executionInfo": {
     "elapsed": 380602,
     "status": "ok",
     "timestamp": 1748538900061,
     "user": {
      "displayName": "Percy Landa",
      "userId": "00834250160249361181"
     },
     "user_tz": 420
    },
    "id": "CriM6zPqA39M",
    "outputId": "fbf3d53a-f61b-4220-d274-63be2d5e566f"
   },
   "outputs": [
    {
     "name": "stdout",
     "output_type": "stream",
     "text": [
      "\n",
      "🔍 Model: Logistic Regression\n",
      "✅ Accuracy: 0.9028\n",
      "              precision    recall  f1-score   support\n",
      "\n",
      "           0       0.91      0.89      0.90      4961\n",
      "           1       0.89      0.92      0.90      5039\n",
      "\n",
      "    accuracy                           0.90     10000\n",
      "   macro avg       0.90      0.90      0.90     10000\n",
      "weighted avg       0.90      0.90      0.90     10000\n",
      "\n",
      "\n",
      "🔍 Model: Linear SVM\n",
      "✅ Accuracy: 0.8972\n",
      "              precision    recall  f1-score   support\n",
      "\n",
      "           0       0.90      0.89      0.90      4961\n",
      "           1       0.89      0.90      0.90      5039\n",
      "\n",
      "    accuracy                           0.90     10000\n",
      "   macro avg       0.90      0.90      0.90     10000\n",
      "weighted avg       0.90      0.90      0.90     10000\n",
      "\n",
      "\n",
      "🔍 Model: Naive Bayes\n",
      "✅ Accuracy: 0.8684\n",
      "              precision    recall  f1-score   support\n",
      "\n",
      "           0       0.87      0.86      0.87      4961\n",
      "           1       0.86      0.88      0.87      5039\n",
      "\n",
      "    accuracy                           0.87     10000\n",
      "   macro avg       0.87      0.87      0.87     10000\n",
      "weighted avg       0.87      0.87      0.87     10000\n",
      "\n",
      "\n",
      "🔍 Model: Random Forest\n",
      "✅ Accuracy: 0.8580\n",
      "              precision    recall  f1-score   support\n",
      "\n",
      "           0       0.85      0.87      0.86      4961\n",
      "           1       0.87      0.85      0.86      5039\n",
      "\n",
      "    accuracy                           0.86     10000\n",
      "   macro avg       0.86      0.86      0.86     10000\n",
      "weighted avg       0.86      0.86      0.86     10000\n",
      "\n"
     ]
    }
   ],
   "source": [
    "# 4. Evaluate and Compare\n",
    "results = []\n",
    "for name, model in models.items():\n",
    "    pipeline = Pipeline([\n",
    "        ('tfidf', TfidfVectorizer(max_features=10000, ngram_range=(1,2))),\n",
    "        ('clf', model)\n",
    "    ])\n",
    "    pipeline.fit(X_train, y_train)\n",
    "    y_pred = pipeline.predict(X_test)\n",
    "    acc = accuracy_score(y_test, y_pred)\n",
    "    results.append((name, acc))\n",
    "\n",
    "    print(f\"\\n🔍 Model: {name}\")\n",
    "    print(f\"✅ Accuracy: {acc:.4f}\")\n",
    "    print(classification_report(y_test, y_pred))"
   ]
  },
  {
   "cell_type": "markdown",
   "id": "8wgTjftmDdTT",
   "metadata": {
    "id": "8wgTjftmDdTT"
   },
   "source": [
    "These results are from evaluating four different supervised machine learning models on IMDB sentiment classification. Here's a breakdown and comparison of each model's performance:\n",
    "\n",
    "---\n",
    "\n",
    "### 🔍 **Model: Logistic Regression**\n",
    "\n",
    "* **✅ Accuracy: 0.9028 (90.28%)**\n",
    "* **Key Metrics**:\n",
    "\n",
    "  * **Precision**:\n",
    "\n",
    "    * Class 0 (Negative): 0.91 → When it predicts negative, it's correct 91% of the time.\n",
    "    * Class 1 (Positive): 0.89\n",
    "  * **Recall**:\n",
    "\n",
    "    * Class 0: 0.89\n",
    "    * Class 1: 0.92 → It captures 92% of all actual positive reviews.\n",
    "  * **F1-score**: 0.90 for both classes\n",
    "\n",
    "✅ **Best overall performer** — balanced precision and recall, with excellent generalization on unseen data.\n",
    "\n",
    "---\n",
    "\n",
    "### 🔍 **Model: Linear SVM (Support Vector Machine)**\n",
    "\n",
    "* **✅ Accuracy: 0.8972 (89.72%)**\n",
    "* Very similar performance to Logistic Regression:\n",
    "\n",
    "  * Slightly lower **recall** and **accuracy**\n",
    "  * **F1-score**: Still 0.90 for both classes\n",
    "* **Strength**: Robust to high-dimensional data (like TF-IDF vectors)\n",
    "\n",
    "🟡 **Runner-up** — still excellent, just marginally behind Logistic Regression.\n",
    "\n",
    "---\n",
    "\n",
    "### 🔍 **Model: Naive Bayes**\n",
    "\n",
    "* **✅ Accuracy: 0.8684 (86.84%)**\n",
    "* Slightly weaker:\n",
    "\n",
    "  * **Precision/Recall/F1** around 0.86–0.87\n",
    "* **Reason**: Naive Bayes makes a strong independence assumption between words, which isn't always realistic in natural language.\n",
    "\n",
    "🟠 **Good baseline** model — fast, simple, and decent, but less accurate.\n",
    "\n",
    "---\n",
    "\n",
    "### 🔍 **Model: Random Forest**\n",
    "\n",
    "* **✅ Accuracy: 0.8580 (85.80%)**\n",
    "* Balanced performance:\n",
    "\n",
    "  * Precision/Recall/F1 around 0.85–0.87\n",
    "* Lower accuracy compared to others, likely due to:\n",
    "\n",
    "  * Poorer handling of high-dimensional sparse features (like text)\n",
    "  * Overfitting potential or lack of feature importance in text context\n",
    "\n",
    "🔴 **Least effective here** — not well-suited for TF-IDF text data out of the box.\n",
    "\n",
    "---\n",
    "\n",
    "### 🔚 **Conclusion**:\n",
    "\n",
    "* 🏆 **Best Choice**: **Logistic Regression**\n",
    "* 🥈 **Also Great**: **Linear SVM**\n",
    "* ⚙️ **Good for Simplicity**: **Naive Bayes**\n",
    "* 🚫 **Less Ideal**: **Random Forest** (unless further optimized or used with different feature engineering)"
   ]
  },
  {
   "cell_type": "code",
   "execution_count": 7,
   "id": "644db97f",
   "metadata": {
    "colab": {
     "base_uri": "https://localhost:8080/",
     "height": 564
    },
    "executionInfo": {
     "elapsed": 288,
     "status": "ok",
     "timestamp": 1748538900344,
     "user": {
      "displayName": "Percy Landa",
      "userId": "00834250160249361181"
     },
     "user_tz": 420
    },
    "id": "644db97f",
    "outputId": "41341073-2895-4250-c47b-c225c82751e5",
    "vscode": {
     "languageId": "plaintext"
    }
   },
   "outputs": [
    {
     "data": {
      "image/png": "[encoded data removed]",
      "text/plain": [
       "<Figure size 1000x600 with 1 Axes>"
      ]
     },
     "metadata": {},
     "output_type": "display_data"
    }
   ],
   "source": [
    "# 5. Summary Visualization\n",
    "model_names = [name for name, _ in results]\n",
    "accuracies = [acc for _, acc in results]\n",
    "\n",
    "plt.figure(figsize=(10, 6))\n",
    "plt.barh(model_names, accuracies, color='skyblue')\n",
    "plt.xlabel('Accuracy')\n",
    "plt.title('Model Comparison on IMDB Sentiment Classification')\n",
    "plt.xlim(0.8, 1.0)\n",
    "plt.grid(True, linestyle='--', alpha=0.6)\n",
    "plt.show()"
   ]
  }
 ],
 "metadata": {
  "colab": {
   "provenance": []
  },
  "kernelspec": {
   "display_name": "Python 3",
   "name": "python3"
  },
  "language_info": {
   "name": "python"
  }
 },
 "nbformat": 4,
 "nbformat_minor": 5
}
