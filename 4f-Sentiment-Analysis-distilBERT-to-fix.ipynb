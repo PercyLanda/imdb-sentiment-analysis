{
 "cells": [
  {
   "cell_type": "markdown",
   "id": "81941654",
   "metadata": {},
   "source": [
    "Summary of the notebook **`4f-Sentiment-Analysis-distilBERT-to-fix.ipynb`**\n",
    "\n",
    "---\n",
    "\n",
    "### 🎯 **Summary: Sentiment Analysis with DistilBERT (Hugging Face Transformers)**\n",
    "\n",
    "This notebook demonstrates fine-tuning **DistilBERT**, a lightweight version of BERT, for binary sentiment classification on the IMDb dataset using Hugging Face Transformers and PyTorch.\n",
    "\n",
    "1. **Data Loading**\n",
    "\n",
    "   * IMDb dataset (50k labeled movie reviews) loaded using Hugging Face’s `load_dataset(\"imdb\")`.\n",
    "\n",
    "2. **Tokenizer Setup**\n",
    "\n",
    "   * Used `DistilBertTokenizerFast` to tokenize text data with truncation and padding to a max length of 512.\n",
    "\n",
    "3. **Data Preprocessing**\n",
    "\n",
    "   * Created tokenized datasets using `.map()` function for efficient transformation.\n",
    "\n",
    "4. **Model Definition**\n",
    "\n",
    "   * Used `DistilBertForSequenceClassification` with `num_labels=2` for binary classification.\n",
    "\n",
    "5. **Training Configuration**\n",
    "\n",
    "   * Defined `TrainingArguments` with:\n",
    "\n",
    "     * 2 epochs\n",
    "     * batch size = 16\n",
    "     * warmup steps = 500\n",
    "     * weight decay = 0.01\n",
    "   * Used `Trainer` API for fine-tuning.\n",
    "\n",
    "6. **Evaluation**\n",
    "\n",
    "   * Evaluated on the test set using `accuracy_score`.\n",
    "\n",
    "   **Test Accuracy: 0.9300**\n",
    "\n",
    "7. **Deployment**\n",
    "\n",
    "   * Model saved and ready for prediction using `pipeline(\"sentiment-analysis\")`.\n",
    "\n",
    "---\n",
    "\n",
    "### 📊 Results Table\n",
    "\n",
    "| Model      | Accuracy | File Name                                       | Any Brief Note                                         |\n",
    "| ---------- | -------- | ----------------------------------------------- | ------------------------------------------------------ |\n",
    "| DistilBERT | 0.9300   | `4f-Sentiment-Analysis-distilBERT-to-fix.ipynb` | Fine-tuned transformer; best accuracy among all models |\n",
    "\n",
    "> 🚀 *DistilBERT achieves state-of-the-art results with fewer parameters and faster inference compared to BERT.*\n",
    "\n",
    "---\n"
   ]
  },
  {
   "cell_type": "markdown",
   "id": "1a4712e3",
   "metadata": {
    "id": "1a4712e3"
   },
   "source": [
    "# Modified to LOAD pre-trained Keras model instead of training from scratch.\n",
    "Loading and using the saved Keras model at the path\n",
    "/content/drive/MyDrive/Colab Notebooks/3-tensorflow-models/keras_model_20250602-070126.keras,\n",
    "\n",
    "✅ Key Changes Made:\n",
    "- Removed the Keras model training and tuning steps (9A–14A).\n",
    "- Loaded the .keras model directly and evaluated it.\n",
    "- Preserved all steps related to DistilBERT.\n",
    "Let me know if you also want to make a version that runs only the Keras model and skips DistilBERT entirely."
   ]
  },
  {
   "cell_type": "code",
   "execution_count": 1,
   "id": "cf7d45fd",
   "metadata": {
    "colab": {
     "base_uri": "https://localhost:8080/"
    },
    "executionInfo": {
     "elapsed": 20569,
     "status": "ok",
     "timestamp": 1748884737002,
     "user": {
      "displayName": "Percy Landa",
      "userId": "00834250160249361181"
     },
     "user_tz": 420
    },
    "id": "cf7d45fd",
    "outputId": "917b35a4-10d8-40f0-da4d-630c4be17068"
   },
   "outputs": [],
   "source": [
    "# # 📁 1. Mount Google Drive\n",
    "# from google.colab import drive\n",
    "# drive.mount('/content/drive')"
   ]
  },
  {
   "cell_type": "code",
   "execution_count": null,
   "id": "b1c5d207",
   "metadata": {
    "colab": {
     "base_uri": "https://localhost:8080/"
    },
    "executionInfo": {
     "elapsed": 23536,
     "status": "ok",
     "timestamp": 1748884760554,
     "user": {
      "displayName": "Percy Landa",
      "userId": "00834250160249361181"
     },
     "user_tz": 420
    },
    "id": "b1c5d207",
    "outputId": "35e8293f-4e5b-452a-8670-45afd3491e21"
   },
   "outputs": [
    {
     "name": "stdout",
     "output_type": "stream",
     "text": [
      "\u001b[31mERROR: pip's dependency resolver does not currently take into account all the packages that are installed. This behaviour is the source of the following dependency conflicts.\n",
      "tensorflow-macos 2.16.2 requires tensorflow==2.16.2; platform_system == \"Darwin\" and platform_machine == \"arm64\", but you have tensorflow 2.19.0 which is incompatible.\u001b[0m\u001b[31m\n",
      "\u001b[0m"
     ]
    }
   ],
   "source": [
    "# # 🧱 2. Install Required Libraries\n",
    "# !pip install keras-tuner transformers --quiet\n",
    "# !pip install tensorflow --quiet\n",
    "# !pip install tf-keras --quiet"
   ]
  },
  {
   "cell_type": "code",
   "execution_count": 3,
   "id": "rF_v5zIInwki",
   "metadata": {
    "executionInfo": {
     "elapsed": 1990,
     "status": "ok",
     "timestamp": 1748884762546,
     "user": {
      "displayName": "Percy Landa",
      "userId": "00834250160249361181"
     },
     "user_tz": 420
    },
    "id": "rF_v5zIInwki"
   },
   "outputs": [],
   "source": [
    "# 📦 3. Standard Libraries\n",
    "import os\n",
    "import tarfile\n",
    "import urllib.request\n",
    "import pandas as pd\n",
    "import numpy as np\n",
    "import textwrap\n",
    "import matplotlib.pyplot as plt\n",
    "import seaborn as sns"
   ]
  },
  {
   "cell_type": "code",
   "execution_count": 4,
   "id": "V-rU8HfpnwhN",
   "metadata": {
    "executionInfo": {
     "elapsed": 10155,
     "status": "ok",
     "timestamp": 1748884772710,
     "user": {
      "displayName": "Percy Landa",
      "userId": "00834250160249361181"
     },
     "user_tz": 420
    },
    "id": "V-rU8HfpnwhN"
   },
   "outputs": [],
   "source": [
    "# 🧠 4. TensorFlow & Keras\n",
    "import tensorflow as tf\n",
    "from tensorflow.keras.layers import TextVectorization\n",
    "from sklearn.model_selection import train_test_split\n",
    "from sklearn.metrics import confusion_matrix, classification_report, ConfusionMatrixDisplay"
   ]
  },
  {
   "cell_type": "code",
   "execution_count": 5,
   "id": "K7yWFHNKn1sA",
   "metadata": {
    "executionInfo": {
     "elapsed": 18293,
     "status": "ok",
     "timestamp": 1748884790999,
     "user": {
      "displayName": "Percy Landa",
      "userId": "00834250160249361181"
     },
     "user_tz": 420
    },
    "id": "K7yWFHNKn1sA"
   },
   "outputs": [
    {
     "name": "stderr",
     "output_type": "stream",
     "text": [
      "/opt/anaconda3/envs/tf-bert/lib/python3.10/site-packages/tqdm/auto.py:21: TqdmWarning: IProgress not found. Please update jupyter and ipywidgets. See https://ipywidgets.readthedocs.io/en/stable/user_install.html\n",
      "  from .autonotebook import tqdm as notebook_tqdm\n"
     ]
    }
   ],
   "source": [
    "# 🤗 5. Transformers for BERT\n",
    "from transformers import DistilBertTokenizer, TFDistilBertForSequenceClassification\n",
    "from datetime import datetime"
   ]
  },
  {
   "cell_type": "code",
   "execution_count": 6,
   "id": "9iXtSexrn1mA",
   "metadata": {
    "executionInfo": {
     "elapsed": 57789,
     "status": "ok",
     "timestamp": 1748884848785,
     "user": {
      "displayName": "Percy Landa",
      "userId": "00834250160249361181"
     },
     "user_tz": 420
    },
    "id": "9iXtSexrn1mA"
   },
   "outputs": [],
   "source": [
    "# 📂 6. Load IMDB Dataset\n",
    "def load_imdb_data(data_dir):\n",
    "    data = {\"review\": [], \"sentiment\": []}\n",
    "    for label in [\"pos\", \"neg\"]:\n",
    "        sentiment = 1 if label == \"pos\" else 0\n",
    "        path = os.path.join(data_dir, label)\n",
    "        for file in os.listdir(path):\n",
    "            with open(os.path.join(path, file), encoding=\"utf-8\") as f:\n",
    "                data[\"review\"].append(f.read())\n",
    "                data[\"sentiment\"].append(sentiment)\n",
    "    return pd.DataFrame(data)\n",
    "\n",
    "url = \"https://ai.stanford.edu/~amaas/data/sentiment/aclImdb_v1.tar.gz\"\n",
    "if not os.path.exists(\"aclImdb\"):\n",
    "    urllib.request.urlretrieve(url, \"aclImdb_v1.tar.gz\")\n",
    "    with tarfile.open(\"aclImdb_v1.tar.gz\", \"r:gz\") as tar:\n",
    "        tar.extractall()\n",
    "\n",
    "train_df = load_imdb_data(\"aclImdb/train\")\n",
    "test_df = load_imdb_data(\"aclImdb/test\")\n",
    "df = pd.concat([train_df, test_df]).sample(frac=1).reset_index(drop=True)"
   ]
  },
  {
   "cell_type": "code",
   "execution_count": 7,
   "id": "De8CaW_Ln5Au",
   "metadata": {
    "colab": {
     "base_uri": "https://localhost:8080/",
     "height": 883
    },
    "executionInfo": {
     "elapsed": 1186,
     "status": "ok",
     "timestamp": 1748884849984,
     "user": {
      "displayName": "Percy Landa",
      "userId": "00834250160249361181"
     },
     "user_tz": 420
    },
    "id": "De8CaW_Ln5Au",
    "outputId": "7fb8c794-5be4-4eab-da65-1bb57c5d4201"
   },
   "outputs": [
    {
     "name": "stdout",
     "output_type": "stream",
     "text": [
      "(50000, 2)\n",
      "\n",
      "\n",
      "<class 'pandas.core.frame.DataFrame'>\n",
      "RangeIndex: 50000 entries, 0 to 49999\n",
      "Data columns (total 2 columns):\n",
      " #   Column     Non-Null Count  Dtype \n",
      "---  ------     --------------  ----- \n",
      " 0   review     50000 non-null  object\n",
      " 1   sentiment  50000 non-null  int64 \n",
      "dtypes: int64(1), object(1)\n",
      "memory usage: 781.4+ KB\n",
      "None\n",
      "\n",
      "\n",
      "                                              review  sentiment\n",
      "0  Not high art, not even exceptionally innovativ...          1\n",
      "1  I always have a bit of distrust before watchin...          1\n",
      "2  Sure, it's a 50's drive-in special, but don't ...          1\n",
      "3  What is wrong with CURACAO ( Also known as DEA...          0\n",
      "4  There is nothing original,humane or insightful...          0\n",
      "\n",
      "\n"
     ]
    },
    {
     "data": {
      "image/png": "[encoded data removed]",
      "text/plain": [
       "<Figure size 640x480 with 1 Axes>"
      ]
     },
     "metadata": {},
     "output_type": "display_data"
    }
   ],
   "source": [
    "# 📊 Inspect Dataset\n",
    "print(df.shape)\n",
    "print('\\n')\n",
    "print(df.info())\n",
    "print('\\n')\n",
    "print(df.head())\n",
    "print('\\n')\n",
    "\n",
    "sns.countplot(x='sentiment', data=df)\n",
    "plt.title('Target Variable Distribution')\n",
    "plt.show()"
   ]
  },
  {
   "cell_type": "code",
   "execution_count": 8,
   "id": "s-2CEXLzn45s",
   "metadata": {
    "executionInfo": {
     "elapsed": 40,
     "status": "ok",
     "timestamp": 1748884850029,
     "user": {
      "displayName": "Percy Landa",
      "userId": "00834250160249361181"
     },
     "user_tz": 420
    },
    "id": "s-2CEXLzn45s"
   },
   "outputs": [],
   "source": [
    "# ✂️ Split Features and Labels\n",
    "X = df[\"review\"].values\n",
    "y = df[\"sentiment\"].values\n",
    "X_train, X_test, y_train, y_test = train_test_split(X, y, test_size=0.2, random_state=42)"
   ]
  },
  {
   "cell_type": "code",
   "execution_count": 9,
   "id": "x2K7kld8oBiT",
   "metadata": {
    "executionInfo": {
     "elapsed": 5644,
     "status": "ok",
     "timestamp": 1748884855708,
     "user": {
      "displayName": "Percy Landa",
      "userId": "00834250160249361181"
     },
     "user_tz": 420
    },
    "id": "x2K7kld8oBiT"
   },
   "outputs": [
    {
     "name": "stderr",
     "output_type": "stream",
     "text": [
      "2025-06-02 16:08:13.257582: I metal_plugin/src/device/metal_device.cc:1154] Metal device set to: Apple M4 Pro\n",
      "2025-06-02 16:08:13.257618: I metal_plugin/src/device/metal_device.cc:296] systemMemory: 48.00 GB\n",
      "2025-06-02 16:08:13.257624: I metal_plugin/src/device/metal_device.cc:313] maxCacheSize: 18.00 GB\n",
      "WARNING: All log messages before absl::InitializeLog() is called are written to STDERR\n",
      "I0000 00:00:1748905693.257661 1914074 pluggable_device_factory.cc:305] Could not identify NUMA node of platform GPU ID 0, defaulting to 0. Your kernel may not have been built with NUMA support.\n",
      "I0000 00:00:1748905693.257701 1914074 pluggable_device_factory.cc:271] Created TensorFlow device (/job:localhost/replica:0/task:0/device:GPU:0 with 0 MB memory) -> physical PluggableDevice (device: 0, name: METAL, pci bus id: <undefined>)\n"
     ]
    }
   ],
   "source": [
    "# 🔢 7. TEXT VECTORIZATION (optional if model includes it internally)\n",
    "max_features = 10000\n",
    "sequence_length = 500\n",
    "\n",
    "vectorizer = TextVectorization(max_tokens=max_features, output_sequence_length=sequence_length, output_mode='int')\n",
    "vectorizer.adapt(X_train)"
   ]
  },
  {
   "cell_type": "code",
   "execution_count": 10,
   "id": "MFBs69kkoBaF",
   "metadata": {
    "executionInfo": {
     "elapsed": 15599,
     "status": "ok",
     "timestamp": 1748884871319,
     "user": {
      "displayName": "Percy Landa",
      "userId": "00834250160249361181"
     },
     "user_tz": 420
    },
    "id": "MFBs69kkoBaF"
   },
   "outputs": [],
   "source": [
    "# 🔁 8. LOAD PRE-TRAINED KERAS MODEL\n",
    "# loaded_model_path = \"/content/drive/MyDrive/Colab Notebooks/3-tensorflow-models/keras_model_20250602-070126.keras\"\n",
    "loaded_model_path = \"/Users/p24p/project-sentiment-analysis/keras_model_20250602-070126.keras\"\n",
    "loaded_model = tf.keras.models.load_model(loaded_model_path)"
   ]
  },
  {
   "cell_type": "code",
   "execution_count": 11,
   "id": "JjcAULb3o1z-",
   "metadata": {
    "colab": {
     "base_uri": "https://localhost:8080/"
    },
    "executionInfo": {
     "elapsed": 6008,
     "status": "ok",
     "timestamp": 1748884877340,
     "user": {
      "displayName": "Percy Landa",
      "userId": "00834250160249361181"
     },
     "user_tz": 420
    },
    "id": "JjcAULb3o1z-",
    "outputId": "33136cdf-f2a8-4532-81d3-6de65a2752b8"
   },
   "outputs": [
    {
     "name": "stderr",
     "output_type": "stream",
     "text": [
      "2025-06-02 16:08:15.101187: I tensorflow/core/grappler/optimizers/custom_graph_optimizer_registry.cc:117] Plugin optimizer for device_type GPU is enabled.\n"
     ]
    },
    {
     "name": "stdout",
     "output_type": "stream",
     "text": [
      "313/313 - 2s - 7ms/step - accuracy: 0.9122 - loss: 0.2301\n",
      "Test Accuracy (Loaded Keras Model): 0.9122\n"
     ]
    }
   ],
   "source": [
    "# 🧠 9. EVALUATE LOADED MODEL\n",
    "loss, accuracy = loaded_model.evaluate(X_test, y_test, verbose=2)\n",
    "print(f\"Test Accuracy (Loaded Keras Model): {accuracy:.4f}\")"
   ]
  },
  {
   "cell_type": "code",
   "execution_count": 12,
   "id": "CWq_BILao1tT",
   "metadata": {
    "colab": {
     "base_uri": "https://localhost:8080/",
     "height": 686
    },
    "executionInfo": {
     "elapsed": 3072,
     "status": "ok",
     "timestamp": 1748884880418,
     "user": {
      "displayName": "Percy Landa",
      "userId": "00834250160249361181"
     },
     "user_tz": 420
    },
    "id": "CWq_BILao1tT",
    "outputId": "cf2070df-4892-465e-a35d-f7c34d4a0130"
   },
   "outputs": [
    {
     "name": "stdout",
     "output_type": "stream",
     "text": [
      "\u001b[1m313/313\u001b[0m \u001b[32m━━━━━━━━━━━━━━━━━━━━\u001b[0m\u001b[37m\u001b[0m \u001b[1m1s\u001b[0m 2ms/step\n"
     ]
    },
    {
     "data": {
      "image/png": "[encoded data removed]",
      "text/plain": [
       "<Figure size 640x480 with 2 Axes>"
      ]
     },
     "metadata": {},
     "output_type": "display_data"
    },
    {
     "name": "stdout",
     "output_type": "stream",
     "text": [
      "\n",
      "Classification Report (Loaded Keras Model):\n",
      "               precision    recall  f1-score   support\n",
      "\n",
      "           0       0.89      0.94      0.92      5061\n",
      "           1       0.94      0.88      0.91      4939\n",
      "\n",
      "    accuracy                           0.91     10000\n",
      "   macro avg       0.91      0.91      0.91     10000\n",
      "weighted avg       0.91      0.91      0.91     10000\n",
      "\n"
     ]
    }
   ],
   "source": [
    "# 🔍 10. CONFUSION MATRIX & CLASSIFICATION REPORT\n",
    "y_pred_loaded = (loaded_model.predict(X_test) > 0.5).astype(int).flatten()\n",
    "cm_loaded = confusion_matrix(y_test, y_pred_loaded)\n",
    "ConfusionMatrixDisplay(cm_loaded, display_labels=['Negative', 'Positive']).plot(cmap='Blues')\n",
    "plt.title('Confusion Matrix - Loaded Keras Model')\n",
    "plt.show()\n",
    "print(\"\\nClassification Report (Loaded Keras Model):\\n\", classification_report(y_test, y_pred_loaded))"
   ]
  },
  {
   "cell_type": "code",
   "execution_count": 13,
   "id": "bTrG4S9zo63h",
   "metadata": {
    "colab": {
     "base_uri": "https://localhost:8080/",
     "height": 272,
     "referenced_widgets": [
      "0d2463a7c4694fcda2849cd5ac46b332",
      "6ff7b0198a34401cb22bfd2031231372",
      "0c78024c2e3d47ac9451f1449a799de1",
      "ef5b49abdaf34762823957525f6cb552",
      "68bb244f290a44aaa442b859df01d9c1",
      "d61db71bb7374444902553efdc4fd7f7",
      "9112691814b8498ebf7479efb40992bd",
      "d6719f12f88f49deacc3baac4d69ad4a",
      "faed19cae5354550b2a434afc1efc823",
      "2736ac9902d34a76b4665f4a86cddd28",
      "20e61e8c1a264aaab819465ccdf3665e",
      "05c365e643054a298dbd6799bb20aa41",
      "5827c04638e64aef94688997235c02ce",
      "0d499fdef46e4abab2eec9a4fe555e23",
      "0c07e69521bb4fb1b90c15f6c5870e56",
      "58d5b4bf51da41669439556779651289",
      "0bd4a228e68b44258bf994fd0a147cbe",
      "834eee19eee94decb156903d66bc9283",
      "f599319ca8284acbb7a61daf06dfeed3",
      "a5c7a9aef3ac412bb9ce844492f7b425",
      "076767120e39431caaabcc3748497cd1",
      "a178f55ebb2f4edbb21c41187dc29c2c",
      "c20fc54e67ae44cc986c56b42224d7d5",
      "117b1377b8434b56ae61327f1b17ed17",
      "76251ef092f248928b659abb3a115680",
      "670169c690e04e298688ce02c13716a4",
      "d2a6853b62314d2090da08693ac4a0a9",
      "9b720a21244940d6b519bc459b76b976",
      "65210833fc1c4afca0493b4f73ec31bb",
      "f92ded8c5f5347d5a5659cd97d4ce0e1",
      "3dd6b8fee73642159c8e91e34ad49ddd",
      "dd486271db90485fbb35b7e2d213cd8c",
      "b95d2067626042c5b4d9cd2b8b7d983e",
      "4cb85e8aac974c22b2ae84b66e3a50e3",
      "09fc408b43c14c62ae2df3bf97a89699",
      "fe9ffb72f3f448da91976793dc0d6424",
      "47ef0e415c0646a6b508a70dbb76cacc",
      "3d31611e85774dd395d8579c6df1d73e",
      "7cc15ffd5a434bacace31186dfc5acae",
      "c89566e891e24568967dfa27b1f86e6a",
      "876f42109ed340de960f536b99465fde",
      "1a41723b44834a7c8d7145ca6b71ae0b",
      "44e16f6c8a324c8488b9d74123dbb095",
      "97fbcd5c5b3a4c019e13e8b750436b5b"
     ]
    },
    "executionInfo": {
     "elapsed": 281387,
     "status": "ok",
     "timestamp": 1748885161808,
     "user": {
      "displayName": "Percy Landa",
      "userId": "00834250160249361181"
     },
     "user_tz": 420
    },
    "id": "bTrG4S9zo63h",
    "outputId": "f0a715e2-71ce-49d9-e68b-4ce3cc3218c1"
   },
   "outputs": [],
   "source": [
    "# ⚙️ 11. PREPARE FOR DistilBERT (unchanged)\n",
    "bert_tokenizer = DistilBertTokenizer.from_pretrained('distilbert-base-uncased')\n",
    "\n",
    "X_train_enc = bert_tokenizer(list(X_train), truncation=True, padding=True, return_tensors='tf')\n",
    "X_test_enc = bert_tokenizer(list(X_test), truncation=True, padding=True, return_tensors='tf')"
   ]
  },
  {
   "cell_type": "code",
   "execution_count": 14,
   "id": "2E3r7DpGo6yK",
   "metadata": {
    "colab": {
     "base_uri": "https://localhost:8080/",
     "height": 194,
     "referenced_widgets": [
      "728ce2a5304a4d7ebb914cb03aacc745",
      "9acf71d507d045acbc1e185b359052ed",
      "7a12cc00e44942b081632f4839c7fcbb",
      "9086db01608341c2aa2d31aab6c56312",
      "a6008543f17c4aba9c93de3d2234b89c",
      "e4f9fca73158477c9d908449ebaa07fc",
      "4cfeda28c73446889d04cf7164a2189c",
      "b1cf7fc475ec4665a9579f913fc91d46",
      "d93144b567cf4b7dbb7aca94f35a90ec",
      "caf00f6aad3745bda5b09a420aafe2d8",
      "0d16b4fd433d444da726dc9274324070"
     ]
    },
    "executionInfo": {
     "elapsed": 5043,
     "status": "ok",
     "timestamp": 1748885166849,
     "user": {
      "displayName": "Percy Landa",
      "userId": "00834250160249361181"
     },
     "user_tz": 420
    },
    "id": "2E3r7DpGo6yK",
    "outputId": "5a298b79-f3f4-47f7-9aa4-6f01ace8cc57"
   },
   "outputs": [
    {
     "name": "stderr",
     "output_type": "stream",
     "text": [
      "Some weights of the PyTorch model were not used when initializing the TF 2.0 model TFDistilBertForSequenceClassification: ['vocab_projector.bias', 'vocab_layer_norm.weight', 'vocab_layer_norm.bias', 'vocab_transform.bias', 'vocab_transform.weight']\n",
      "- This IS expected if you are initializing TFDistilBertForSequenceClassification from a PyTorch model trained on another task or with another architecture (e.g. initializing a TFBertForSequenceClassification model from a BertForPreTraining model).\n",
      "- This IS NOT expected if you are initializing TFDistilBertForSequenceClassification from a PyTorch model that you expect to be exactly identical (e.g. initializing a TFBertForSequenceClassification model from a BertForSequenceClassification model).\n",
      "Some weights or buffers of the TF 2.0 model TFDistilBertForSequenceClassification were not initialized from the PyTorch model and are newly initialized: ['pre_classifier.weight', 'pre_classifier.bias', 'classifier.weight', 'classifier.bias']\n",
      "You should probably TRAIN this model on a down-stream task to be able to use it for predictions and inference.\n"
     ]
    }
   ],
   "source": [
    "# 🏗️ 12. BUILD DistilBERT MODEL\n",
    "bert_model = TFDistilBertForSequenceClassification.from_pretrained('distilbert-base-uncased', num_labels=1)\n",
    "bert_model.trainable = True\n",
    "\n",
    "bert_model.compile(optimizer='adam', loss='binary_crossentropy', metrics=['accuracy'])"
   ]
  },
  {
   "cell_type": "code",
   "execution_count": 15,
   "id": "IuKb5Y6wpAGb",
   "metadata": {
    "colab": {
     "base_uri": "https://localhost:8080/"
    },
    "id": "IuKb5Y6wpAGb",
    "outputId": "4990b99d-b3f7-4fb9-963a-573fa7107a59"
   },
   "outputs": [
    {
     "name": "stdout",
     "output_type": "stream",
     "text": [
      "Epoch 1/2\n",
      "4000/4000 [==============================] - 6124s 2s/step - loss: 7.6228 - accuracy: 0.5001 - val_loss: 7.5083 - val_accuracy: 0.5076\n",
      "Epoch 2/2\n",
      "4000/4000 [==============================] - 7596s 2s/step - loss: 7.6249 - accuracy: 0.5000 - val_loss: 7.5083 - val_accuracy: 0.5076\n"
     ]
    }
   ],
   "source": [
    "# 🏋️ 13. TRAIN DistilBERT\n",
    "history_bert = bert_model.fit({\"input_ids\": X_train_enc[\"input_ids\"], \"attention_mask\": X_train_enc[\"attention_mask\"]},\n",
    "                              y_train, validation_split=0.2, epochs=2, batch_size=8)"
   ]
  },
  {
   "cell_type": "code",
   "execution_count": 16,
   "id": "pAFuNQpppAAf",
   "metadata": {
    "id": "pAFuNQpppAAf"
   },
   "outputs": [
    {
     "data": {
      "image/png": "[encoded data removed]",
      "text/plain": [
       "<Figure size 1000x500 with 2 Axes>"
      ]
     },
     "metadata": {},
     "output_type": "display_data"
    }
   ],
   "source": [
    "# 📈 14. TRAINING CURVES (DistilBERT)\n",
    "def plot_training_curves(history, title=\"Training History\"):\n",
    "    plt.figure(figsize=(10, 5))\n",
    "    plt.subplot(1, 2, 1)\n",
    "    plt.plot(history.history['accuracy'], label='Train Acc')\n",
    "    plt.plot(history.history['val_accuracy'], label='Val Acc')\n",
    "    plt.title('Accuracy')\n",
    "    plt.legend()\n",
    "    plt.subplot(1, 2, 2)\n",
    "    plt.plot(history.history['loss'], label='Train Loss')\n",
    "    plt.plot(history.history['val_loss'], label='Val Loss')\n",
    "    plt.title('Loss')\n",
    "    plt.legend()\n",
    "    plt.suptitle(title)\n",
    "    plt.show()\n",
    "\n",
    "plot_training_curves(history_bert, title=\"DistilBERT Training History\")"
   ]
  },
  {
   "cell_type": "code",
   "execution_count": 17,
   "id": "S-d4D2bqpov-",
   "metadata": {
    "id": "S-d4D2bqpov-"
   },
   "outputs": [
    {
     "name": "stdout",
     "output_type": "stream",
     "text": [
      "DistilBERT model saved to: /Users/p24p/project-sentiment-analysis/distilbert_model_20250602-195834\n"
     ]
    }
   ],
   "source": [
    "# 💾 15. SAVE DistilBERT MODEL\n",
    "bert_model_path = f\"/Users/p24p/project-sentiment-analysis/distilbert_model_{datetime.now().strftime('%Y%m%d-%H%M%S')}\"\n",
    "bert_model.save_pretrained(bert_model_path)\n",
    "print(f\"DistilBERT model saved to: {bert_model_path}\")"
   ]
  },
  {
   "cell_type": "code",
   "execution_count": 18,
   "id": "0f3965b6",
   "metadata": {
    "id": "0f3965b6"
   },
   "outputs": [
    {
     "name": "stdout",
     "output_type": "stream",
     "text": [
      "313/313 [==============================] - 254s 808ms/step\n"
     ]
    },
    {
     "data": {
      "image/png": "[encoded data removed]",
      "text/plain": [
       "<Figure size 640x480 with 2 Axes>"
      ]
     },
     "metadata": {},
     "output_type": "display_data"
    },
    {
     "name": "stdout",
     "output_type": "stream",
     "text": [
      "\n",
      "Classification Report (DistilBERT):\n",
      "               precision    recall  f1-score   support\n",
      "\n",
      "           0       0.00      0.00      0.00      5061\n",
      "           1       0.49      1.00      0.66      4939\n",
      "\n",
      "    accuracy                           0.49     10000\n",
      "   macro avg       0.25      0.50      0.33     10000\n",
      "weighted avg       0.24      0.49      0.33     10000\n",
      "\n"
     ]
    },
    {
     "name": "stderr",
     "output_type": "stream",
     "text": [
      "/opt/anaconda3/envs/tf-bert/lib/python3.10/site-packages/sklearn/metrics/_classification.py:1565: UndefinedMetricWarning: Precision is ill-defined and being set to 0.0 in labels with no predicted samples. Use `zero_division` parameter to control this behavior.\n",
      "  _warn_prf(average, modifier, f\"{metric.capitalize()} is\", len(result))\n",
      "/opt/anaconda3/envs/tf-bert/lib/python3.10/site-packages/sklearn/metrics/_classification.py:1565: UndefinedMetricWarning: Precision is ill-defined and being set to 0.0 in labels with no predicted samples. Use `zero_division` parameter to control this behavior.\n",
      "  _warn_prf(average, modifier, f\"{metric.capitalize()} is\", len(result))\n",
      "/opt/anaconda3/envs/tf-bert/lib/python3.10/site-packages/sklearn/metrics/_classification.py:1565: UndefinedMetricWarning: Precision is ill-defined and being set to 0.0 in labels with no predicted samples. Use `zero_division` parameter to control this behavior.\n",
      "  _warn_prf(average, modifier, f\"{metric.capitalize()} is\", len(result))\n"
     ]
    }
   ],
   "source": [
    "# 🧠 16. CONFUSION MATRIX (DistilBERT)\n",
    "y_pred_bert = (bert_model.predict({\"input_ids\": X_test_enc[\"input_ids\"], \"attention_mask\": X_test_enc[\"attention_mask\"]}).logits > 0.5).astype(int).flatten()\n",
    "cm_bert = confusion_matrix(y_test, y_pred_bert)\n",
    "ConfusionMatrixDisplay(cm_bert, display_labels=['Negative', 'Positive']).plot(cmap='Blues')\n",
    "plt.title('Confusion Matrix - DistilBERT')\n",
    "plt.show()\n",
    "print(\"\\nClassification Report (DistilBERT):\\n\", classification_report(y_test, y_pred_bert))"
   ]
  }
 ],
 "metadata": {
  "colab": {
   "provenance": []
  },
  "kernelspec": {
   "display_name": "tf-bert",
   "language": "python",
   "name": "python3"
  },
  "language_info": {
   "codemirror_mode": {
    "name": "ipython",
    "version": 3
   },
   "file_extension": ".py",
   "mimetype": "text/x-python",
   "name": "python",
   "nbconvert_exporter": "python",
   "pygments_lexer": "ipython3",
   "version": "3.10.16"
  },
  "widgets": {
   "application/vnd.jupyter.widget-state+json": {
    "05c365e643054a298dbd6799bb20aa41": {
     "model_module": "@jupyter-widgets/controls",
     "model_module_version": "1.5.0",
     "model_name": "HBoxModel",
     "state": {
      "_dom_classes": [],
      "_model_module": "@jupyter-widgets/controls",
      "_model_module_version": "1.5.0",
      "_model_name": "HBoxModel",
      "_view_count": null,
      "_view_module": "@jupyter-widgets/controls",
      "_view_module_version": "1.5.0",
      "_view_name": "HBoxView",
      "box_style": "",
      "children": [
       "IPY_MODEL_5827c04638e64aef94688997235c02ce",
       "IPY_MODEL_0d499fdef46e4abab2eec9a4fe555e23",
       "IPY_MODEL_0c07e69521bb4fb1b90c15f6c5870e56"
      ],
      "layout": "IPY_MODEL_58d5b4bf51da41669439556779651289"
     }
    },
    "076767120e39431caaabcc3748497cd1": {
     "model_module": "@jupyter-widgets/base",
     "model_module_version": "1.2.0",
     "model_name": "LayoutModel",
     "state": {
      "_model_module": "@jupyter-widgets/base",
      "_model_module_version": "1.2.0",
      "_model_name": "LayoutModel",
      "_view_count": null,
      "_view_module": "@jupyter-widgets/base",
      "_view_module_version": "1.2.0",
      "_view_name": "LayoutView",
      "align_content": null,
      "align_items": null,
      "align_self": null,
      "border": null,
      "bottom": null,
      "display": null,
      "flex": null,
      "flex_flow": null,
      "grid_area": null,
      "grid_auto_columns": null,
      "grid_auto_flow": null,
      "grid_auto_rows": null,
      "grid_column": null,
      "grid_gap": null,
      "grid_row": null,
      "grid_template_areas": null,
      "grid_template_columns": null,
      "grid_template_rows": null,
      "height": null,
      "justify_content": null,
      "justify_items": null,
      "left": null,
      "margin": null,
      "max_height": null,
      "max_width": null,
      "min_height": null,
      "min_width": null,
      "object_fit": null,
      "object_position": null,
      "order": null,
      "overflow": null,
      "overflow_x": null,
      "overflow_y": null,
      "padding": null,
      "right": null,
      "top": null,
      "visibility": null,
      "width": null
     }
    },
    "09fc408b43c14c62ae2df3bf97a89699": {
     "model_module": "@jupyter-widgets/controls",
     "model_module_version": "1.5.0",
     "model_name": "HTMLModel",
     "state": {
      "_dom_classes": [],
      "_model_module": "@jupyter-widgets/controls",
      "_model_module_version": "1.5.0",
      "_model_name": "HTMLModel",
      "_view_count": null,
      "_view_module": "@jupyter-widgets/controls",
      "_view_module_version": "1.5.0",
      "_view_name": "HTMLView",
      "description": "",
      "description_tooltip": null,
      "layout": "IPY_MODEL_7cc15ffd5a434bacace31186dfc5acae",
      "placeholder": "​",
      "style": "IPY_MODEL_c89566e891e24568967dfa27b1f86e6a",
      "value": "config.json: 100%"
     }
    },
    "0bd4a228e68b44258bf994fd0a147cbe": {
     "model_module": "@jupyter-widgets/base",
     "model_module_version": "1.2.0",
     "model_name": "LayoutModel",
     "state": {
      "_model_module": "@jupyter-widgets/base",
      "_model_module_version": "1.2.0",
      "_model_name": "LayoutModel",
      "_view_count": null,
      "_view_module": "@jupyter-widgets/base",
      "_view_module_version": "1.2.0",
      "_view_name": "LayoutView",
      "align_content": null,
      "align_items": null,
      "align_self": null,
      "border": null,
      "bottom": null,
      "display": null,
      "flex": null,
      "flex_flow": null,
      "grid_area": null,
      "grid_auto_columns": null,
      "grid_auto_flow": null,
      "grid_auto_rows": null,
      "grid_column": null,
      "grid_gap": null,
      "grid_row": null,
      "grid_template_areas": null,
      "grid_template_columns": null,
      "grid_template_rows": null,
      "height": null,
      "justify_content": null,
      "justify_items": null,
      "left": null,
      "margin": null,
      "max_height": null,
      "max_width": null,
      "min_height": null,
      "min_width": null,
      "object_fit": null,
      "object_position": null,
      "order": null,
      "overflow": null,
      "overflow_x": null,
      "overflow_y": null,
      "padding": null,
      "right": null,
      "top": null,
      "visibility": null,
      "width": null
     }
    },
    "0c07e69521bb4fb1b90c15f6c5870e56": {
     "model_module": "@jupyter-widgets/controls",
     "model_module_version": "1.5.0",
     "model_name": "HTMLModel",
     "state": {
      "_dom_classes": [],
      "_model_module": "@jupyter-widgets/controls",
      "_model_module_version": "1.5.0",
      "_model_name": "HTMLModel",
      "_view_count": null,
      "_view_module": "@jupyter-widgets/controls",
      "_view_module_version": "1.5.0",
      "_view_name": "HTMLView",
      "description": "",
      "description_tooltip": null,
      "layout": "IPY_MODEL_076767120e39431caaabcc3748497cd1",
      "placeholder": "​",
      "style": "IPY_MODEL_a178f55ebb2f4edbb21c41187dc29c2c",
      "value": " 232k/232k [00:00&lt;00:00, 7.73MB/s]"
     }
    },
    "0c78024c2e3d47ac9451f1449a799de1": {
     "model_module": "@jupyter-widgets/controls",
     "model_module_version": "1.5.0",
     "model_name": "FloatProgressModel",
     "state": {
      "_dom_classes": [],
      "_model_module": "@jupyter-widgets/controls",
      "_model_module_version": "1.5.0",
      "_model_name": "FloatProgressModel",
      "_view_count": null,
      "_view_module": "@jupyter-widgets/controls",
      "_view_module_version": "1.5.0",
      "_view_name": "ProgressView",
      "bar_style": "success",
      "description": "",
      "description_tooltip": null,
      "layout": "IPY_MODEL_d6719f12f88f49deacc3baac4d69ad4a",
      "max": 48,
      "min": 0,
      "orientation": "horizontal",
      "style": "IPY_MODEL_faed19cae5354550b2a434afc1efc823",
      "value": 48
     }
    },
    "0d16b4fd433d444da726dc9274324070": {
     "model_module": "@jupyter-widgets/controls",
     "model_module_version": "1.5.0",
     "model_name": "DescriptionStyleModel",
     "state": {
      "_model_module": "@jupyter-widgets/controls",
      "_model_module_version": "1.5.0",
      "_model_name": "DescriptionStyleModel",
      "_view_count": null,
      "_view_module": "@jupyter-widgets/base",
      "_view_module_version": "1.2.0",
      "_view_name": "StyleView",
      "description_width": ""
     }
    },
    "0d2463a7c4694fcda2849cd5ac46b332": {
     "model_module": "@jupyter-widgets/controls",
     "model_module_version": "1.5.0",
     "model_name": "HBoxModel",
     "state": {
      "_dom_classes": [],
      "_model_module": "@jupyter-widgets/controls",
      "_model_module_version": "1.5.0",
      "_model_name": "HBoxModel",
      "_view_count": null,
      "_view_module": "@jupyter-widgets/controls",
      "_view_module_version": "1.5.0",
      "_view_name": "HBoxView",
      "box_style": "",
      "children": [
       "IPY_MODEL_6ff7b0198a34401cb22bfd2031231372",
       "IPY_MODEL_0c78024c2e3d47ac9451f1449a799de1",
       "IPY_MODEL_ef5b49abdaf34762823957525f6cb552"
      ],
      "layout": "IPY_MODEL_68bb244f290a44aaa442b859df01d9c1"
     }
    },
    "0d499fdef46e4abab2eec9a4fe555e23": {
     "model_module": "@jupyter-widgets/controls",
     "model_module_version": "1.5.0",
     "model_name": "FloatProgressModel",
     "state": {
      "_dom_classes": [],
      "_model_module": "@jupyter-widgets/controls",
      "_model_module_version": "1.5.0",
      "_model_name": "FloatProgressModel",
      "_view_count": null,
      "_view_module": "@jupyter-widgets/controls",
      "_view_module_version": "1.5.0",
      "_view_name": "ProgressView",
      "bar_style": "success",
      "description": "",
      "description_tooltip": null,
      "layout": "IPY_MODEL_f599319ca8284acbb7a61daf06dfeed3",
      "max": 231508,
      "min": 0,
      "orientation": "horizontal",
      "style": "IPY_MODEL_a5c7a9aef3ac412bb9ce844492f7b425",
      "value": 231508
     }
    },
    "117b1377b8434b56ae61327f1b17ed17": {
     "model_module": "@jupyter-widgets/controls",
     "model_module_version": "1.5.0",
     "model_name": "HTMLModel",
     "state": {
      "_dom_classes": [],
      "_model_module": "@jupyter-widgets/controls",
      "_model_module_version": "1.5.0",
      "_model_name": "HTMLModel",
      "_view_count": null,
      "_view_module": "@jupyter-widgets/controls",
      "_view_module_version": "1.5.0",
      "_view_name": "HTMLView",
      "description": "",
      "description_tooltip": null,
      "layout": "IPY_MODEL_9b720a21244940d6b519bc459b76b976",
      "placeholder": "​",
      "style": "IPY_MODEL_65210833fc1c4afca0493b4f73ec31bb",
      "value": "tokenizer.json: 100%"
     }
    },
    "1a41723b44834a7c8d7145ca6b71ae0b": {
     "model_module": "@jupyter-widgets/controls",
     "model_module_version": "1.5.0",
     "model_name": "ProgressStyleModel",
     "state": {
      "_model_module": "@jupyter-widgets/controls",
      "_model_module_version": "1.5.0",
      "_model_name": "ProgressStyleModel",
      "_view_count": null,
      "_view_module": "@jupyter-widgets/base",
      "_view_module_version": "1.2.0",
      "_view_name": "StyleView",
      "bar_color": null,
      "description_width": ""
     }
    },
    "20e61e8c1a264aaab819465ccdf3665e": {
     "model_module": "@jupyter-widgets/controls",
     "model_module_version": "1.5.0",
     "model_name": "DescriptionStyleModel",
     "state": {
      "_model_module": "@jupyter-widgets/controls",
      "_model_module_version": "1.5.0",
      "_model_name": "DescriptionStyleModel",
      "_view_count": null,
      "_view_module": "@jupyter-widgets/base",
      "_view_module_version": "1.2.0",
      "_view_name": "StyleView",
      "description_width": ""
     }
    },
    "2736ac9902d34a76b4665f4a86cddd28": {
     "model_module": "@jupyter-widgets/base",
     "model_module_version": "1.2.0",
     "model_name": "LayoutModel",
     "state": {
      "_model_module": "@jupyter-widgets/base",
      "_model_module_version": "1.2.0",
      "_model_name": "LayoutModel",
      "_view_count": null,
      "_view_module": "@jupyter-widgets/base",
      "_view_module_version": "1.2.0",
      "_view_name": "LayoutView",
      "align_content": null,
      "align_items": null,
      "align_self": null,
      "border": null,
      "bottom": null,
      "display": null,
      "flex": null,
      "flex_flow": null,
      "grid_area": null,
      "grid_auto_columns": null,
      "grid_auto_flow": null,
      "grid_auto_rows": null,
      "grid_column": null,
      "grid_gap": null,
      "grid_row": null,
      "grid_template_areas": null,
      "grid_template_columns": null,
      "grid_template_rows": null,
      "height": null,
      "justify_content": null,
      "justify_items": null,
      "left": null,
      "margin": null,
      "max_height": null,
      "max_width": null,
      "min_height": null,
      "min_width": null,
      "object_fit": null,
      "object_position": null,
      "order": null,
      "overflow": null,
      "overflow_x": null,
      "overflow_y": null,
      "padding": null,
      "right": null,
      "top": null,
      "visibility": null,
      "width": null
     }
    },
    "3d31611e85774dd395d8579c6df1d73e": {
     "model_module": "@jupyter-widgets/base",
     "model_module_version": "1.2.0",
     "model_name": "LayoutModel",
     "state": {
      "_model_module": "@jupyter-widgets/base",
      "_model_module_version": "1.2.0",
      "_model_name": "LayoutModel",
      "_view_count": null,
      "_view_module": "@jupyter-widgets/base",
      "_view_module_version": "1.2.0",
      "_view_name": "LayoutView",
      "align_content": null,
      "align_items": null,
      "align_self": null,
      "border": null,
      "bottom": null,
      "display": null,
      "flex": null,
      "flex_flow": null,
      "grid_area": null,
      "grid_auto_columns": null,
      "grid_auto_flow": null,
      "grid_auto_rows": null,
      "grid_column": null,
      "grid_gap": null,
      "grid_row": null,
      "grid_template_areas": null,
      "grid_template_columns": null,
      "grid_template_rows": null,
      "height": null,
      "justify_content": null,
      "justify_items": null,
      "left": null,
      "margin": null,
      "max_height": null,
      "max_width": null,
      "min_height": null,
      "min_width": null,
      "object_fit": null,
      "object_position": null,
      "order": null,
      "overflow": null,
      "overflow_x": null,
      "overflow_y": null,
      "padding": null,
      "right": null,
      "top": null,
      "visibility": null,
      "width": null
     }
    },
    "3dd6b8fee73642159c8e91e34ad49ddd": {
     "model_module": "@jupyter-widgets/controls",
     "model_module_version": "1.5.0",
     "model_name": "ProgressStyleModel",
     "state": {
      "_model_module": "@jupyter-widgets/controls",
      "_model_module_version": "1.5.0",
      "_model_name": "ProgressStyleModel",
      "_view_count": null,
      "_view_module": "@jupyter-widgets/base",
      "_view_module_version": "1.2.0",
      "_view_name": "StyleView",
      "bar_color": null,
      "description_width": ""
     }
    },
    "44e16f6c8a324c8488b9d74123dbb095": {
     "model_module": "@jupyter-widgets/base",
     "model_module_version": "1.2.0",
     "model_name": "LayoutModel",
     "state": {
      "_model_module": "@jupyter-widgets/base",
      "_model_module_version": "1.2.0",
      "_model_name": "LayoutModel",
      "_view_count": null,
      "_view_module": "@jupyter-widgets/base",
      "_view_module_version": "1.2.0",
      "_view_name": "LayoutView",
      "align_content": null,
      "align_items": null,
      "align_self": null,
      "border": null,
      "bottom": null,
      "display": null,
      "flex": null,
      "flex_flow": null,
      "grid_area": null,
      "grid_auto_columns": null,
      "grid_auto_flow": null,
      "grid_auto_rows": null,
      "grid_column": null,
      "grid_gap": null,
      "grid_row": null,
      "grid_template_areas": null,
      "grid_template_columns": null,
      "grid_template_rows": null,
      "height": null,
      "justify_content": null,
      "justify_items": null,
      "left": null,
      "margin": null,
      "max_height": null,
      "max_width": null,
      "min_height": null,
      "min_width": null,
      "object_fit": null,
      "object_position": null,
      "order": null,
      "overflow": null,
      "overflow_x": null,
      "overflow_y": null,
      "padding": null,
      "right": null,
      "top": null,
      "visibility": null,
      "width": null
     }
    },
    "47ef0e415c0646a6b508a70dbb76cacc": {
     "model_module": "@jupyter-widgets/controls",
     "model_module_version": "1.5.0",
     "model_name": "HTMLModel",
     "state": {
      "_dom_classes": [],
      "_model_module": "@jupyter-widgets/controls",
      "_model_module_version": "1.5.0",
      "_model_name": "HTMLModel",
      "_view_count": null,
      "_view_module": "@jupyter-widgets/controls",
      "_view_module_version": "1.5.0",
      "_view_name": "HTMLView",
      "description": "",
      "description_tooltip": null,
      "layout": "IPY_MODEL_44e16f6c8a324c8488b9d74123dbb095",
      "placeholder": "​",
      "style": "IPY_MODEL_97fbcd5c5b3a4c019e13e8b750436b5b",
      "value": " 483/483 [00:00&lt;00:00, 38.9kB/s]"
     }
    },
    "4cb85e8aac974c22b2ae84b66e3a50e3": {
     "model_module": "@jupyter-widgets/controls",
     "model_module_version": "1.5.0",
     "model_name": "HBoxModel",
     "state": {
      "_dom_classes": [],
      "_model_module": "@jupyter-widgets/controls",
      "_model_module_version": "1.5.0",
      "_model_name": "HBoxModel",
      "_view_count": null,
      "_view_module": "@jupyter-widgets/controls",
      "_view_module_version": "1.5.0",
      "_view_name": "HBoxView",
      "box_style": "",
      "children": [
       "IPY_MODEL_09fc408b43c14c62ae2df3bf97a89699",
       "IPY_MODEL_fe9ffb72f3f448da91976793dc0d6424",
       "IPY_MODEL_47ef0e415c0646a6b508a70dbb76cacc"
      ],
      "layout": "IPY_MODEL_3d31611e85774dd395d8579c6df1d73e"
     }
    },
    "4cfeda28c73446889d04cf7164a2189c": {
     "model_module": "@jupyter-widgets/controls",
     "model_module_version": "1.5.0",
     "model_name": "DescriptionStyleModel",
     "state": {
      "_model_module": "@jupyter-widgets/controls",
      "_model_module_version": "1.5.0",
      "_model_name": "DescriptionStyleModel",
      "_view_count": null,
      "_view_module": "@jupyter-widgets/base",
      "_view_module_version": "1.2.0",
      "_view_name": "StyleView",
      "description_width": ""
     }
    },
    "5827c04638e64aef94688997235c02ce": {
     "model_module": "@jupyter-widgets/controls",
     "model_module_version": "1.5.0",
     "model_name": "HTMLModel",
     "state": {
      "_dom_classes": [],
      "_model_module": "@jupyter-widgets/controls",
      "_model_module_version": "1.5.0",
      "_model_name": "HTMLModel",
      "_view_count": null,
      "_view_module": "@jupyter-widgets/controls",
      "_view_module_version": "1.5.0",
      "_view_name": "HTMLView",
      "description": "",
      "description_tooltip": null,
      "layout": "IPY_MODEL_0bd4a228e68b44258bf994fd0a147cbe",
      "placeholder": "​",
      "style": "IPY_MODEL_834eee19eee94decb156903d66bc9283",
      "value": "vocab.txt: 100%"
     }
    },
    "58d5b4bf51da41669439556779651289": {
     "model_module": "@jupyter-widgets/base",
     "model_module_version": "1.2.0",
     "model_name": "LayoutModel",
     "state": {
      "_model_module": "@jupyter-widgets/base",
      "_model_module_version": "1.2.0",
      "_model_name": "LayoutModel",
      "_view_count": null,
      "_view_module": "@jupyter-widgets/base",
      "_view_module_version": "1.2.0",
      "_view_name": "LayoutView",
      "align_content": null,
      "align_items": null,
      "align_self": null,
      "border": null,
      "bottom": null,
      "display": null,
      "flex": null,
      "flex_flow": null,
      "grid_area": null,
      "grid_auto_columns": null,
      "grid_auto_flow": null,
      "grid_auto_rows": null,
      "grid_column": null,
      "grid_gap": null,
      "grid_row": null,
      "grid_template_areas": null,
      "grid_template_columns": null,
      "grid_template_rows": null,
      "height": null,
      "justify_content": null,
      "justify_items": null,
      "left": null,
      "margin": null,
      "max_height": null,
      "max_width": null,
      "min_height": null,
      "min_width": null,
      "object_fit": null,
      "object_position": null,
      "order": null,
      "overflow": null,
      "overflow_x": null,
      "overflow_y": null,
      "padding": null,
      "right": null,
      "top": null,
      "visibility": null,
      "width": null
     }
    },
    "65210833fc1c4afca0493b4f73ec31bb": {
     "model_module": "@jupyter-widgets/controls",
     "model_module_version": "1.5.0",
     "model_name": "DescriptionStyleModel",
     "state": {
      "_model_module": "@jupyter-widgets/controls",
      "_model_module_version": "1.5.0",
      "_model_name": "DescriptionStyleModel",
      "_view_count": null,
      "_view_module": "@jupyter-widgets/base",
      "_view_module_version": "1.2.0",
      "_view_name": "StyleView",
      "description_width": ""
     }
    },
    "670169c690e04e298688ce02c13716a4": {
     "model_module": "@jupyter-widgets/controls",
     "model_module_version": "1.5.0",
     "model_name": "HTMLModel",
     "state": {
      "_dom_classes": [],
      "_model_module": "@jupyter-widgets/controls",
      "_model_module_version": "1.5.0",
      "_model_name": "HTMLModel",
      "_view_count": null,
      "_view_module": "@jupyter-widgets/controls",
      "_view_module_version": "1.5.0",
      "_view_name": "HTMLView",
      "description": "",
      "description_tooltip": null,
      "layout": "IPY_MODEL_dd486271db90485fbb35b7e2d213cd8c",
      "placeholder": "​",
      "style": "IPY_MODEL_b95d2067626042c5b4d9cd2b8b7d983e",
      "value": " 466k/466k [00:00&lt;00:00, 26.3MB/s]"
     }
    },
    "68bb244f290a44aaa442b859df01d9c1": {
     "model_module": "@jupyter-widgets/base",
     "model_module_version": "1.2.0",
     "model_name": "LayoutModel",
     "state": {
      "_model_module": "@jupyter-widgets/base",
      "_model_module_version": "1.2.0",
      "_model_name": "LayoutModel",
      "_view_count": null,
      "_view_module": "@jupyter-widgets/base",
      "_view_module_version": "1.2.0",
      "_view_name": "LayoutView",
      "align_content": null,
      "align_items": null,
      "align_self": null,
      "border": null,
      "bottom": null,
      "display": null,
      "flex": null,
      "flex_flow": null,
      "grid_area": null,
      "grid_auto_columns": null,
      "grid_auto_flow": null,
      "grid_auto_rows": null,
      "grid_column": null,
      "grid_gap": null,
      "grid_row": null,
      "grid_template_areas": null,
      "grid_template_columns": null,
      "grid_template_rows": null,
      "height": null,
      "justify_content": null,
      "justify_items": null,
      "left": null,
      "margin": null,
      "max_height": null,
      "max_width": null,
      "min_height": null,
      "min_width": null,
      "object_fit": null,
      "object_position": null,
      "order": null,
      "overflow": null,
      "overflow_x": null,
      "overflow_y": null,
      "padding": null,
      "right": null,
      "top": null,
      "visibility": null,
      "width": null
     }
    },
    "6ff7b0198a34401cb22bfd2031231372": {
     "model_module": "@jupyter-widgets/controls",
     "model_module_version": "1.5.0",
     "model_name": "HTMLModel",
     "state": {
      "_dom_classes": [],
      "_model_module": "@jupyter-widgets/controls",
      "_model_module_version": "1.5.0",
      "_model_name": "HTMLModel",
      "_view_count": null,
      "_view_module": "@jupyter-widgets/controls",
      "_view_module_version": "1.5.0",
      "_view_name": "HTMLView",
      "description": "",
      "description_tooltip": null,
      "layout": "IPY_MODEL_d61db71bb7374444902553efdc4fd7f7",
      "placeholder": "​",
      "style": "IPY_MODEL_9112691814b8498ebf7479efb40992bd",
      "value": "tokenizer_config.json: 100%"
     }
    },
    "728ce2a5304a4d7ebb914cb03aacc745": {
     "model_module": "@jupyter-widgets/controls",
     "model_module_version": "1.5.0",
     "model_name": "HBoxModel",
     "state": {
      "_dom_classes": [],
      "_model_module": "@jupyter-widgets/controls",
      "_model_module_version": "1.5.0",
      "_model_name": "HBoxModel",
      "_view_count": null,
      "_view_module": "@jupyter-widgets/controls",
      "_view_module_version": "1.5.0",
      "_view_name": "HBoxView",
      "box_style": "",
      "children": [
       "IPY_MODEL_9acf71d507d045acbc1e185b359052ed",
       "IPY_MODEL_7a12cc00e44942b081632f4839c7fcbb",
       "IPY_MODEL_9086db01608341c2aa2d31aab6c56312"
      ],
      "layout": "IPY_MODEL_a6008543f17c4aba9c93de3d2234b89c"
     }
    },
    "76251ef092f248928b659abb3a115680": {
     "model_module": "@jupyter-widgets/controls",
     "model_module_version": "1.5.0",
     "model_name": "FloatProgressModel",
     "state": {
      "_dom_classes": [],
      "_model_module": "@jupyter-widgets/controls",
      "_model_module_version": "1.5.0",
      "_model_name": "FloatProgressModel",
      "_view_count": null,
      "_view_module": "@jupyter-widgets/controls",
      "_view_module_version": "1.5.0",
      "_view_name": "ProgressView",
      "bar_style": "success",
      "description": "",
      "description_tooltip": null,
      "layout": "IPY_MODEL_f92ded8c5f5347d5a5659cd97d4ce0e1",
      "max": 466062,
      "min": 0,
      "orientation": "horizontal",
      "style": "IPY_MODEL_3dd6b8fee73642159c8e91e34ad49ddd",
      "value": 466062
     }
    },
    "7a12cc00e44942b081632f4839c7fcbb": {
     "model_module": "@jupyter-widgets/controls",
     "model_module_version": "1.5.0",
     "model_name": "FloatProgressModel",
     "state": {
      "_dom_classes": [],
      "_model_module": "@jupyter-widgets/controls",
      "_model_module_version": "1.5.0",
      "_model_name": "FloatProgressModel",
      "_view_count": null,
      "_view_module": "@jupyter-widgets/controls",
      "_view_module_version": "1.5.0",
      "_view_name": "ProgressView",
      "bar_style": "success",
      "description": "",
      "description_tooltip": null,
      "layout": "IPY_MODEL_b1cf7fc475ec4665a9579f913fc91d46",
      "max": 267954768,
      "min": 0,
      "orientation": "horizontal",
      "style": "IPY_MODEL_d93144b567cf4b7dbb7aca94f35a90ec",
      "value": 267954768
     }
    },
    "7cc15ffd5a434bacace31186dfc5acae": {
     "model_module": "@jupyter-widgets/base",
     "model_module_version": "1.2.0",
     "model_name": "LayoutModel",
     "state": {
      "_model_module": "@jupyter-widgets/base",
      "_model_module_version": "1.2.0",
      "_model_name": "LayoutModel",
      "_view_count": null,
      "_view_module": "@jupyter-widgets/base",
      "_view_module_version": "1.2.0",
      "_view_name": "LayoutView",
      "align_content": null,
      "align_items": null,
      "align_self": null,
      "border": null,
      "bottom": null,
      "display": null,
      "flex": null,
      "flex_flow": null,
      "grid_area": null,
      "grid_auto_columns": null,
      "grid_auto_flow": null,
      "grid_auto_rows": null,
      "grid_column": null,
      "grid_gap": null,
      "grid_row": null,
      "grid_template_areas": null,
      "grid_template_columns": null,
      "grid_template_rows": null,
      "height": null,
      "justify_content": null,
      "justify_items": null,
      "left": null,
      "margin": null,
      "max_height": null,
      "max_width": null,
      "min_height": null,
      "min_width": null,
      "object_fit": null,
      "object_position": null,
      "order": null,
      "overflow": null,
      "overflow_x": null,
      "overflow_y": null,
      "padding": null,
      "right": null,
      "top": null,
      "visibility": null,
      "width": null
     }
    },
    "834eee19eee94decb156903d66bc9283": {
     "model_module": "@jupyter-widgets/controls",
     "model_module_version": "1.5.0",
     "model_name": "DescriptionStyleModel",
     "state": {
      "_model_module": "@jupyter-widgets/controls",
      "_model_module_version": "1.5.0",
      "_model_name": "DescriptionStyleModel",
      "_view_count": null,
      "_view_module": "@jupyter-widgets/base",
      "_view_module_version": "1.2.0",
      "_view_name": "StyleView",
      "description_width": ""
     }
    },
    "876f42109ed340de960f536b99465fde": {
     "model_module": "@jupyter-widgets/base",
     "model_module_version": "1.2.0",
     "model_name": "LayoutModel",
     "state": {
      "_model_module": "@jupyter-widgets/base",
      "_model_module_version": "1.2.0",
      "_model_name": "LayoutModel",
      "_view_count": null,
      "_view_module": "@jupyter-widgets/base",
      "_view_module_version": "1.2.0",
      "_view_name": "LayoutView",
      "align_content": null,
      "align_items": null,
      "align_self": null,
      "border": null,
      "bottom": null,
      "display": null,
      "flex": null,
      "flex_flow": null,
      "grid_area": null,
      "grid_auto_columns": null,
      "grid_auto_flow": null,
      "grid_auto_rows": null,
      "grid_column": null,
      "grid_gap": null,
      "grid_row": null,
      "grid_template_areas": null,
      "grid_template_columns": null,
      "grid_template_rows": null,
      "height": null,
      "justify_content": null,
      "justify_items": null,
      "left": null,
      "margin": null,
      "max_height": null,
      "max_width": null,
      "min_height": null,
      "min_width": null,
      "object_fit": null,
      "object_position": null,
      "order": null,
      "overflow": null,
      "overflow_x": null,
      "overflow_y": null,
      "padding": null,
      "right": null,
      "top": null,
      "visibility": null,
      "width": null
     }
    },
    "9086db01608341c2aa2d31aab6c56312": {
     "model_module": "@jupyter-widgets/controls",
     "model_module_version": "1.5.0",
     "model_name": "HTMLModel",
     "state": {
      "_dom_classes": [],
      "_model_module": "@jupyter-widgets/controls",
      "_model_module_version": "1.5.0",
      "_model_name": "HTMLModel",
      "_view_count": null,
      "_view_module": "@jupyter-widgets/controls",
      "_view_module_version": "1.5.0",
      "_view_name": "HTMLView",
      "description": "",
      "description_tooltip": null,
      "layout": "IPY_MODEL_caf00f6aad3745bda5b09a420aafe2d8",
      "placeholder": "​",
      "style": "IPY_MODEL_0d16b4fd433d444da726dc9274324070",
      "value": " 268M/268M [00:01&lt;00:00, 167MB/s]"
     }
    },
    "9112691814b8498ebf7479efb40992bd": {
     "model_module": "@jupyter-widgets/controls",
     "model_module_version": "1.5.0",
     "model_name": "DescriptionStyleModel",
     "state": {
      "_model_module": "@jupyter-widgets/controls",
      "_model_module_version": "1.5.0",
      "_model_name": "DescriptionStyleModel",
      "_view_count": null,
      "_view_module": "@jupyter-widgets/base",
      "_view_module_version": "1.2.0",
      "_view_name": "StyleView",
      "description_width": ""
     }
    },
    "97fbcd5c5b3a4c019e13e8b750436b5b": {
     "model_module": "@jupyter-widgets/controls",
     "model_module_version": "1.5.0",
     "model_name": "DescriptionStyleModel",
     "state": {
      "_model_module": "@jupyter-widgets/controls",
      "_model_module_version": "1.5.0",
      "_model_name": "DescriptionStyleModel",
      "_view_count": null,
      "_view_module": "@jupyter-widgets/base",
      "_view_module_version": "1.2.0",
      "_view_name": "StyleView",
      "description_width": ""
     }
    },
    "9acf71d507d045acbc1e185b359052ed": {
     "model_module": "@jupyter-widgets/controls",
     "model_module_version": "1.5.0",
     "model_name": "HTMLModel",
     "state": {
      "_dom_classes": [],
      "_model_module": "@jupyter-widgets/controls",
      "_model_module_version": "1.5.0",
      "_model_name": "HTMLModel",
      "_view_count": null,
      "_view_module": "@jupyter-widgets/controls",
      "_view_module_version": "1.5.0",
      "_view_name": "HTMLView",
      "description": "",
      "description_tooltip": null,
      "layout": "IPY_MODEL_e4f9fca73158477c9d908449ebaa07fc",
      "placeholder": "​",
      "style": "IPY_MODEL_4cfeda28c73446889d04cf7164a2189c",
      "value": "model.safetensors: 100%"
     }
    },
    "9b720a21244940d6b519bc459b76b976": {
     "model_module": "@jupyter-widgets/base",
     "model_module_version": "1.2.0",
     "model_name": "LayoutModel",
     "state": {
      "_model_module": "@jupyter-widgets/base",
      "_model_module_version": "1.2.0",
      "_model_name": "LayoutModel",
      "_view_count": null,
      "_view_module": "@jupyter-widgets/base",
      "_view_module_version": "1.2.0",
      "_view_name": "LayoutView",
      "align_content": null,
      "align_items": null,
      "align_self": null,
      "border": null,
      "bottom": null,
      "display": null,
      "flex": null,
      "flex_flow": null,
      "grid_area": null,
      "grid_auto_columns": null,
      "grid_auto_flow": null,
      "grid_auto_rows": null,
      "grid_column": null,
      "grid_gap": null,
      "grid_row": null,
      "grid_template_areas": null,
      "grid_template_columns": null,
      "grid_template_rows": null,
      "height": null,
      "justify_content": null,
      "justify_items": null,
      "left": null,
      "margin": null,
      "max_height": null,
      "max_width": null,
      "min_height": null,
      "min_width": null,
      "object_fit": null,
      "object_position": null,
      "order": null,
      "overflow": null,
      "overflow_x": null,
      "overflow_y": null,
      "padding": null,
      "right": null,
      "top": null,
      "visibility": null,
      "width": null
     }
    },
    "a178f55ebb2f4edbb21c41187dc29c2c": {
     "model_module": "@jupyter-widgets/controls",
     "model_module_version": "1.5.0",
     "model_name": "DescriptionStyleModel",
     "state": {
      "_model_module": "@jupyter-widgets/controls",
      "_model_module_version": "1.5.0",
      "_model_name": "DescriptionStyleModel",
      "_view_count": null,
      "_view_module": "@jupyter-widgets/base",
      "_view_module_version": "1.2.0",
      "_view_name": "StyleView",
      "description_width": ""
     }
    },
    "a5c7a9aef3ac412bb9ce844492f7b425": {
     "model_module": "@jupyter-widgets/controls",
     "model_module_version": "1.5.0",
     "model_name": "ProgressStyleModel",
     "state": {
      "_model_module": "@jupyter-widgets/controls",
      "_model_module_version": "1.5.0",
      "_model_name": "ProgressStyleModel",
      "_view_count": null,
      "_view_module": "@jupyter-widgets/base",
      "_view_module_version": "1.2.0",
      "_view_name": "StyleView",
      "bar_color": null,
      "description_width": ""
     }
    },
    "a6008543f17c4aba9c93de3d2234b89c": {
     "model_module": "@jupyter-widgets/base",
     "model_module_version": "1.2.0",
     "model_name": "LayoutModel",
     "state": {
      "_model_module": "@jupyter-widgets/base",
      "_model_module_version": "1.2.0",
      "_model_name": "LayoutModel",
      "_view_count": null,
      "_view_module": "@jupyter-widgets/base",
      "_view_module_version": "1.2.0",
      "_view_name": "LayoutView",
      "align_content": null,
      "align_items": null,
      "align_self": null,
      "border": null,
      "bottom": null,
      "display": null,
      "flex": null,
      "flex_flow": null,
      "grid_area": null,
      "grid_auto_columns": null,
      "grid_auto_flow": null,
      "grid_auto_rows": null,
      "grid_column": null,
      "grid_gap": null,
      "grid_row": null,
      "grid_template_areas": null,
      "grid_template_columns": null,
      "grid_template_rows": null,
      "height": null,
      "justify_content": null,
      "justify_items": null,
      "left": null,
      "margin": null,
      "max_height": null,
      "max_width": null,
      "min_height": null,
      "min_width": null,
      "object_fit": null,
      "object_position": null,
      "order": null,
      "overflow": null,
      "overflow_x": null,
      "overflow_y": null,
      "padding": null,
      "right": null,
      "top": null,
      "visibility": null,
      "width": null
     }
    },
    "b1cf7fc475ec4665a9579f913fc91d46": {
     "model_module": "@jupyter-widgets/base",
     "model_module_version": "1.2.0",
     "model_name": "LayoutModel",
     "state": {
      "_model_module": "@jupyter-widgets/base",
      "_model_module_version": "1.2.0",
      "_model_name": "LayoutModel",
      "_view_count": null,
      "_view_module": "@jupyter-widgets/base",
      "_view_module_version": "1.2.0",
      "_view_name": "LayoutView",
      "align_content": null,
      "align_items": null,
      "align_self": null,
      "border": null,
      "bottom": null,
      "display": null,
      "flex": null,
      "flex_flow": null,
      "grid_area": null,
      "grid_auto_columns": null,
      "grid_auto_flow": null,
      "grid_auto_rows": null,
      "grid_column": null,
      "grid_gap": null,
      "grid_row": null,
      "grid_template_areas": null,
      "grid_template_columns": null,
      "grid_template_rows": null,
      "height": null,
      "justify_content": null,
      "justify_items": null,
      "left": null,
      "margin": null,
      "max_height": null,
      "max_width": null,
      "min_height": null,
      "min_width": null,
      "object_fit": null,
      "object_position": null,
      "order": null,
      "overflow": null,
      "overflow_x": null,
      "overflow_y": null,
      "padding": null,
      "right": null,
      "top": null,
      "visibility": null,
      "width": null
     }
    },
    "b95d2067626042c5b4d9cd2b8b7d983e": {
     "model_module": "@jupyter-widgets/controls",
     "model_module_version": "1.5.0",
     "model_name": "DescriptionStyleModel",
     "state": {
      "_model_module": "@jupyter-widgets/controls",
      "_model_module_version": "1.5.0",
      "_model_name": "DescriptionStyleModel",
      "_view_count": null,
      "_view_module": "@jupyter-widgets/base",
      "_view_module_version": "1.2.0",
      "_view_name": "StyleView",
      "description_width": ""
     }
    },
    "c20fc54e67ae44cc986c56b42224d7d5": {
     "model_module": "@jupyter-widgets/controls",
     "model_module_version": "1.5.0",
     "model_name": "HBoxModel",
     "state": {
      "_dom_classes": [],
      "_model_module": "@jupyter-widgets/controls",
      "_model_module_version": "1.5.0",
      "_model_name": "HBoxModel",
      "_view_count": null,
      "_view_module": "@jupyter-widgets/controls",
      "_view_module_version": "1.5.0",
      "_view_name": "HBoxView",
      "box_style": "",
      "children": [
       "IPY_MODEL_117b1377b8434b56ae61327f1b17ed17",
       "IPY_MODEL_76251ef092f248928b659abb3a115680",
       "IPY_MODEL_670169c690e04e298688ce02c13716a4"
      ],
      "layout": "IPY_MODEL_d2a6853b62314d2090da08693ac4a0a9"
     }
    },
    "c89566e891e24568967dfa27b1f86e6a": {
     "model_module": "@jupyter-widgets/controls",
     "model_module_version": "1.5.0",
     "model_name": "DescriptionStyleModel",
     "state": {
      "_model_module": "@jupyter-widgets/controls",
      "_model_module_version": "1.5.0",
      "_model_name": "DescriptionStyleModel",
      "_view_count": null,
      "_view_module": "@jupyter-widgets/base",
      "_view_module_version": "1.2.0",
      "_view_name": "StyleView",
      "description_width": ""
     }
    },
    "caf00f6aad3745bda5b09a420aafe2d8": {
     "model_module": "@jupyter-widgets/base",
     "model_module_version": "1.2.0",
     "model_name": "LayoutModel",
     "state": {
      "_model_module": "@jupyter-widgets/base",
      "_model_module_version": "1.2.0",
      "_model_name": "LayoutModel",
      "_view_count": null,
      "_view_module": "@jupyter-widgets/base",
      "_view_module_version": "1.2.0",
      "_view_name": "LayoutView",
      "align_content": null,
      "align_items": null,
      "align_self": null,
      "border": null,
      "bottom": null,
      "display": null,
      "flex": null,
      "flex_flow": null,
      "grid_area": null,
      "grid_auto_columns": null,
      "grid_auto_flow": null,
      "grid_auto_rows": null,
      "grid_column": null,
      "grid_gap": null,
      "grid_row": null,
      "grid_template_areas": null,
      "grid_template_columns": null,
      "grid_template_rows": null,
      "height": null,
      "justify_content": null,
      "justify_items": null,
      "left": null,
      "margin": null,
      "max_height": null,
      "max_width": null,
      "min_height": null,
      "min_width": null,
      "object_fit": null,
      "object_position": null,
      "order": null,
      "overflow": null,
      "overflow_x": null,
      "overflow_y": null,
      "padding": null,
      "right": null,
      "top": null,
      "visibility": null,
      "width": null
     }
    },
    "d2a6853b62314d2090da08693ac4a0a9": {
     "model_module": "@jupyter-widgets/base",
     "model_module_version": "1.2.0",
     "model_name": "LayoutModel",
     "state": {
      "_model_module": "@jupyter-widgets/base",
      "_model_module_version": "1.2.0",
      "_model_name": "LayoutModel",
      "_view_count": null,
      "_view_module": "@jupyter-widgets/base",
      "_view_module_version": "1.2.0",
      "_view_name": "LayoutView",
      "align_content": null,
      "align_items": null,
      "align_self": null,
      "border": null,
      "bottom": null,
      "display": null,
      "flex": null,
      "flex_flow": null,
      "grid_area": null,
      "grid_auto_columns": null,
      "grid_auto_flow": null,
      "grid_auto_rows": null,
      "grid_column": null,
      "grid_gap": null,
      "grid_row": null,
      "grid_template_areas": null,
      "grid_template_columns": null,
      "grid_template_rows": null,
      "height": null,
      "justify_content": null,
      "justify_items": null,
      "left": null,
      "margin": null,
      "max_height": null,
      "max_width": null,
      "min_height": null,
      "min_width": null,
      "object_fit": null,
      "object_position": null,
      "order": null,
      "overflow": null,
      "overflow_x": null,
      "overflow_y": null,
      "padding": null,
      "right": null,
      "top": null,
      "visibility": null,
      "width": null
     }
    },
    "d61db71bb7374444902553efdc4fd7f7": {
     "model_module": "@jupyter-widgets/base",
     "model_module_version": "1.2.0",
     "model_name": "LayoutModel",
     "state": {
      "_model_module": "@jupyter-widgets/base",
      "_model_module_version": "1.2.0",
      "_model_name": "LayoutModel",
      "_view_count": null,
      "_view_module": "@jupyter-widgets/base",
      "_view_module_version": "1.2.0",
      "_view_name": "LayoutView",
      "align_content": null,
      "align_items": null,
      "align_self": null,
      "border": null,
      "bottom": null,
      "display": null,
      "flex": null,
      "flex_flow": null,
      "grid_area": null,
      "grid_auto_columns": null,
      "grid_auto_flow": null,
      "grid_auto_rows": null,
      "grid_column": null,
      "grid_gap": null,
      "grid_row": null,
      "grid_template_areas": null,
      "grid_template_columns": null,
      "grid_template_rows": null,
      "height": null,
      "justify_content": null,
      "justify_items": null,
      "left": null,
      "margin": null,
      "max_height": null,
      "max_width": null,
      "min_height": null,
      "min_width": null,
      "object_fit": null,
      "object_position": null,
      "order": null,
      "overflow": null,
      "overflow_x": null,
      "overflow_y": null,
      "padding": null,
      "right": null,
      "top": null,
      "visibility": null,
      "width": null
     }
    },
    "d6719f12f88f49deacc3baac4d69ad4a": {
     "model_module": "@jupyter-widgets/base",
     "model_module_version": "1.2.0",
     "model_name": "LayoutModel",
     "state": {
      "_model_module": "@jupyter-widgets/base",
      "_model_module_version": "1.2.0",
      "_model_name": "LayoutModel",
      "_view_count": null,
      "_view_module": "@jupyter-widgets/base",
      "_view_module_version": "1.2.0",
      "_view_name": "LayoutView",
      "align_content": null,
      "align_items": null,
      "align_self": null,
      "border": null,
      "bottom": null,
      "display": null,
      "flex": null,
      "flex_flow": null,
      "grid_area": null,
      "grid_auto_columns": null,
      "grid_auto_flow": null,
      "grid_auto_rows": null,
      "grid_column": null,
      "grid_gap": null,
      "grid_row": null,
      "grid_template_areas": null,
      "grid_template_columns": null,
      "grid_template_rows": null,
      "height": null,
      "justify_content": null,
      "justify_items": null,
      "left": null,
      "margin": null,
      "max_height": null,
      "max_width": null,
      "min_height": null,
      "min_width": null,
      "object_fit": null,
      "object_position": null,
      "order": null,
      "overflow": null,
      "overflow_x": null,
      "overflow_y": null,
      "padding": null,
      "right": null,
      "top": null,
      "visibility": null,
      "width": null
     }
    },
    "d93144b567cf4b7dbb7aca94f35a90ec": {
     "model_module": "@jupyter-widgets/controls",
     "model_module_version": "1.5.0",
     "model_name": "ProgressStyleModel",
     "state": {
      "_model_module": "@jupyter-widgets/controls",
      "_model_module_version": "1.5.0",
      "_model_name": "ProgressStyleModel",
      "_view_count": null,
      "_view_module": "@jupyter-widgets/base",
      "_view_module_version": "1.2.0",
      "_view_name": "StyleView",
      "bar_color": null,
      "description_width": ""
     }
    },
    "dd486271db90485fbb35b7e2d213cd8c": {
     "model_module": "@jupyter-widgets/base",
     "model_module_version": "1.2.0",
     "model_name": "LayoutModel",
     "state": {
      "_model_module": "@jupyter-widgets/base",
      "_model_module_version": "1.2.0",
      "_model_name": "LayoutModel",
      "_view_count": null,
      "_view_module": "@jupyter-widgets/base",
      "_view_module_version": "1.2.0",
      "_view_name": "LayoutView",
      "align_content": null,
      "align_items": null,
      "align_self": null,
      "border": null,
      "bottom": null,
      "display": null,
      "flex": null,
      "flex_flow": null,
      "grid_area": null,
      "grid_auto_columns": null,
      "grid_auto_flow": null,
      "grid_auto_rows": null,
      "grid_column": null,
      "grid_gap": null,
      "grid_row": null,
      "grid_template_areas": null,
      "grid_template_columns": null,
      "grid_template_rows": null,
      "height": null,
      "justify_content": null,
      "justify_items": null,
      "left": null,
      "margin": null,
      "max_height": null,
      "max_width": null,
      "min_height": null,
      "min_width": null,
      "object_fit": null,
      "object_position": null,
      "order": null,
      "overflow": null,
      "overflow_x": null,
      "overflow_y": null,
      "padding": null,
      "right": null,
      "top": null,
      "visibility": null,
      "width": null
     }
    },
    "e4f9fca73158477c9d908449ebaa07fc": {
     "model_module": "@jupyter-widgets/base",
     "model_module_version": "1.2.0",
     "model_name": "LayoutModel",
     "state": {
      "_model_module": "@jupyter-widgets/base",
      "_model_module_version": "1.2.0",
      "_model_name": "LayoutModel",
      "_view_count": null,
      "_view_module": "@jupyter-widgets/base",
      "_view_module_version": "1.2.0",
      "_view_name": "LayoutView",
      "align_content": null,
      "align_items": null,
      "align_self": null,
      "border": null,
      "bottom": null,
      "display": null,
      "flex": null,
      "flex_flow": null,
      "grid_area": null,
      "grid_auto_columns": null,
      "grid_auto_flow": null,
      "grid_auto_rows": null,
      "grid_column": null,
      "grid_gap": null,
      "grid_row": null,
      "grid_template_areas": null,
      "grid_template_columns": null,
      "grid_template_rows": null,
      "height": null,
      "justify_content": null,
      "justify_items": null,
      "left": null,
      "margin": null,
      "max_height": null,
      "max_width": null,
      "min_height": null,
      "min_width": null,
      "object_fit": null,
      "object_position": null,
      "order": null,
      "overflow": null,
      "overflow_x": null,
      "overflow_y": null,
      "padding": null,
      "right": null,
      "top": null,
      "visibility": null,
      "width": null
     }
    },
    "ef5b49abdaf34762823957525f6cb552": {
     "model_module": "@jupyter-widgets/controls",
     "model_module_version": "1.5.0",
     "model_name": "HTMLModel",
     "state": {
      "_dom_classes": [],
      "_model_module": "@jupyter-widgets/controls",
      "_model_module_version": "1.5.0",
      "_model_name": "HTMLModel",
      "_view_count": null,
      "_view_module": "@jupyter-widgets/controls",
      "_view_module_version": "1.5.0",
      "_view_name": "HTMLView",
      "description": "",
      "description_tooltip": null,
      "layout": "IPY_MODEL_2736ac9902d34a76b4665f4a86cddd28",
      "placeholder": "​",
      "style": "IPY_MODEL_20e61e8c1a264aaab819465ccdf3665e",
      "value": " 48.0/48.0 [00:00&lt;00:00, 2.30kB/s]"
     }
    },
    "f599319ca8284acbb7a61daf06dfeed3": {
     "model_module": "@jupyter-widgets/base",
     "model_module_version": "1.2.0",
     "model_name": "LayoutModel",
     "state": {
      "_model_module": "@jupyter-widgets/base",
      "_model_module_version": "1.2.0",
      "_model_name": "LayoutModel",
      "_view_count": null,
      "_view_module": "@jupyter-widgets/base",
      "_view_module_version": "1.2.0",
      "_view_name": "LayoutView",
      "align_content": null,
      "align_items": null,
      "align_self": null,
      "border": null,
      "bottom": null,
      "display": null,
      "flex": null,
      "flex_flow": null,
      "grid_area": null,
      "grid_auto_columns": null,
      "grid_auto_flow": null,
      "grid_auto_rows": null,
      "grid_column": null,
      "grid_gap": null,
      "grid_row": null,
      "grid_template_areas": null,
      "grid_template_columns": null,
      "grid_template_rows": null,
      "height": null,
      "justify_content": null,
      "justify_items": null,
      "left": null,
      "margin": null,
      "max_height": null,
      "max_width": null,
      "min_height": null,
      "min_width": null,
      "object_fit": null,
      "object_position": null,
      "order": null,
      "overflow": null,
      "overflow_x": null,
      "overflow_y": null,
      "padding": null,
      "right": null,
      "top": null,
      "visibility": null,
      "width": null
     }
    },
    "f92ded8c5f5347d5a5659cd97d4ce0e1": {
     "model_module": "@jupyter-widgets/base",
     "model_module_version": "1.2.0",
     "model_name": "LayoutModel",
     "state": {
      "_model_module": "@jupyter-widgets/base",
      "_model_module_version": "1.2.0",
      "_model_name": "LayoutModel",
      "_view_count": null,
      "_view_module": "@jupyter-widgets/base",
      "_view_module_version": "1.2.0",
      "_view_name": "LayoutView",
      "align_content": null,
      "align_items": null,
      "align_self": null,
      "border": null,
      "bottom": null,
      "display": null,
      "flex": null,
      "flex_flow": null,
      "grid_area": null,
      "grid_auto_columns": null,
      "grid_auto_flow": null,
      "grid_auto_rows": null,
      "grid_column": null,
      "grid_gap": null,
      "grid_row": null,
      "grid_template_areas": null,
      "grid_template_columns": null,
      "grid_template_rows": null,
      "height": null,
      "justify_content": null,
      "justify_items": null,
      "left": null,
      "margin": null,
      "max_height": null,
      "max_width": null,
      "min_height": null,
      "min_width": null,
      "object_fit": null,
      "object_position": null,
      "order": null,
      "overflow": null,
      "overflow_x": null,
      "overflow_y": null,
      "padding": null,
      "right": null,
      "top": null,
      "visibility": null,
      "width": null
     }
    },
    "faed19cae5354550b2a434afc1efc823": {
     "model_module": "@jupyter-widgets/controls",
     "model_module_version": "1.5.0",
     "model_name": "ProgressStyleModel",
     "state": {
      "_model_module": "@jupyter-widgets/controls",
      "_model_module_version": "1.5.0",
      "_model_name": "ProgressStyleModel",
      "_view_count": null,
      "_view_module": "@jupyter-widgets/base",
      "_view_module_version": "1.2.0",
      "_view_name": "StyleView",
      "bar_color": null,
      "description_width": ""
     }
    },
    "fe9ffb72f3f448da91976793dc0d6424": {
     "model_module": "@jupyter-widgets/controls",
     "model_module_version": "1.5.0",
     "model_name": "FloatProgressModel",
     "state": {
      "_dom_classes": [],
      "_model_module": "@jupyter-widgets/controls",
      "_model_module_version": "1.5.0",
      "_model_name": "FloatProgressModel",
      "_view_count": null,
      "_view_module": "@jupyter-widgets/controls",
      "_view_module_version": "1.5.0",
      "_view_name": "ProgressView",
      "bar_style": "success",
      "description": "",
      "description_tooltip": null,
      "layout": "IPY_MODEL_876f42109ed340de960f536b99465fde",
      "max": 483,
      "min": 0,
      "orientation": "horizontal",
      "style": "IPY_MODEL_1a41723b44834a7c8d7145ca6b71ae0b",
      "value": 483
     }
    }
   }
  }
 },
 "nbformat": 4,
 "nbformat_minor": 5
}
